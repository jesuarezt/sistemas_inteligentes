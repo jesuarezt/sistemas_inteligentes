{
 "cells": [
  {
   "cell_type": "code",
   "execution_count": 1,
   "id": "33958996-fee1-45f1-bae5-58667441715d",
   "metadata": {},
   "outputs": [
    {
     "name": "stderr",
     "output_type": "stream",
     "text": [
      "2022-05-09 09:12:50.458403: I tensorflow/stream_executor/platform/default/dso_loader.cc:49] Successfully opened dynamic library libcudart.so.10.1\n",
      "/home/jest/anaconda3/envs/javeriana_tf/lib/python3.9/site-packages/tqdm/auto.py:22: TqdmWarning: IProgress not found. Please update jupyter and ipywidgets. See https://ipywidgets.readthedocs.io/en/stable/user_install.html\n",
      "  from .autonotebook import tqdm as notebook_tqdm\n"
     ]
    }
   ],
   "source": [
    "import pandas as pd\n",
    "import numpy as np\n",
    "import sklearn\n",
    "\n",
    "from sklearn.model_selection import train_test_split\n",
    "from sklearn.preprocessing import OrdinalEncoder\n",
    "from sklearn.preprocessing import LabelEncoder\n",
    "from sklearn.model_selection import GridSearchCV \n",
    "from sklearn.metrics import confusion_matrix\n",
    "from keras.utils.vis_utils import plot_model\n",
    "\n",
    "from keras.models import Sequential\n",
    "from keras.layers import Dense\n",
    "from keras.wrappers.scikit_learn import KerasClassifier\n",
    "\n",
    "from keras.utils import np_utils\n",
    "\n",
    "\n",
    "import numpy as np\n",
    "import tensorflow as tf\n",
    "from tensorflow import keras\n",
    "from tensorflow.keras import layers\n",
    "import tensorflow_datasets as tfds\n",
    "import tensorflow_probability as tfp\n",
    "\n",
    "import seaborn as sns\n",
    "import matplotlib.pyplot as plt\n",
    "import os"
   ]
  },
  {
   "cell_type": "code",
   "execution_count": 2,
   "id": "7b126653-195c-4190-953a-c832aa2a8fd3",
   "metadata": {},
   "outputs": [],
   "source": [
    "os.chdir(r\"/home/jest/Documents/personal/sistemas inteligentes/proyecto/segunda entrega\")"
   ]
  },
  {
   "cell_type": "code",
   "execution_count": 3,
   "id": "6b13a7ec-f150-473d-ad79-63538a46ea43",
   "metadata": {},
   "outputs": [],
   "source": [
    "path_name_model = 'dataset/datos_para_modelo.csv'"
   ]
  },
  {
   "cell_type": "code",
   "execution_count": 4,
   "id": "ebc16a4d-90af-4602-85e2-fa10bc36827a",
   "metadata": {},
   "outputs": [],
   "source": [
    "df = pd.read_csv(path_name_model, sep='|')"
   ]
  },
  {
   "cell_type": "code",
   "execution_count": 5,
   "id": "e4599ec1-34b4-4d65-a712-50041224c4b8",
   "metadata": {},
   "outputs": [],
   "source": [
    "df = df.iloc[:,1:]"
   ]
  },
  {
   "cell_type": "code",
   "execution_count": 6,
   "id": "2b98f584-bbd2-4830-91d6-8dec15ea8ef9",
   "metadata": {},
   "outputs": [
    {
     "name": "stdout",
     "output_type": "stream",
     "text": [
      "<class 'pandas.core.frame.DataFrame'>\n",
      "RangeIndex: 4526 entries, 0 to 4525\n",
      "Data columns (total 23 columns):\n",
      " #   Column                        Non-Null Count  Dtype  \n",
      "---  ------                        --------------  -----  \n",
      " 0   estu_genero                   4526 non-null   object \n",
      " 1   estu_tieneetnia               4526 non-null   object \n",
      " 2   estu_depto_reside             4526 non-null   object \n",
      " 3   estu_mcpio_reside             4526 non-null   object \n",
      " 4   fami_estratovivienda          4526 non-null   object \n",
      " 5   fami_personashogar            4526 non-null   object \n",
      " 6   fami_cuartoshogar             4526 non-null   object \n",
      " 7   fami_tieneinternet            4526 non-null   object \n",
      " 8   fami_tieneserviciotv          4526 non-null   object \n",
      " 9   fami_tienecomputador          4526 non-null   object \n",
      " 10  fami_tienelavadora            4526 non-null   object \n",
      " 11  fami_tienehornomicroogas      4526 non-null   object \n",
      " 12  fami_tieneautomovil           4526 non-null   object \n",
      " 13  fami_tienemotocicleta         4526 non-null   object \n",
      " 14  fami_tieneconsolavideojuegos  4526 non-null   object \n",
      " 15  cole_bilingue                 4526 non-null   object \n",
      " 16  punt_global                   4526 non-null   float64\n",
      " 17  punt_lectura_critica          4526 non-null   float64\n",
      " 18  punt_matematicas              4526 non-null   float64\n",
      " 19  punt_c_naturales              4526 non-null   float64\n",
      " 20  punt_sociales_ciudadanas      4526 non-null   float64\n",
      " 21  punt_ingles                   4526 non-null   float64\n",
      " 22  desempenio                    4526 non-null   object \n",
      "dtypes: float64(6), object(17)\n",
      "memory usage: 813.4+ KB\n"
     ]
    }
   ],
   "source": [
    "df.info()"
   ]
  },
  {
   "cell_type": "code",
   "execution_count": 7,
   "id": "990e237d-aba9-4fce-b219-5fa360bac239",
   "metadata": {},
   "outputs": [],
   "source": [
    "dataset = df.values"
   ]
  },
  {
   "cell_type": "code",
   "execution_count": 8,
   "id": "0407a529-913e-4260-9b0b-3703dcfc3d3b",
   "metadata": {},
   "outputs": [
    {
     "name": "stdout",
     "output_type": "stream",
     "text": [
      "Train (3168, 22) (3168, 1)\n",
      "Test (1358, 22) (1358, 1)\n"
     ]
    }
   ],
   "source": [
    "X = dataset[:, :-1]\n",
    "y = dataset[:,-1]\n",
    "X = X.astype(str)\n",
    "y = y.reshape((len(y), 1))\n",
    "X_train, X_test, y_train, y_test = train_test_split(X, y, test_size=0.30, random_state=1)\n",
    "print('Train', X_train.shape, y_train.shape)\n",
    "print('Test', X_test.shape, y_test.shape)"
   ]
  },
  {
   "cell_type": "code",
   "execution_count": 9,
   "id": "308122b0-93dc-4327-926e-2018e81be2b6",
   "metadata": {},
   "outputs": [
    {
     "data": {
      "text/plain": [
       "array([['F', 'No', 'BOLIVAR', ..., '40.0', '37.0', '41.0'],\n",
       "       ['M', 'No', 'BOLIVAR', ..., '32.0', '26.0', '31.0'],\n",
       "       ['F', 'No', 'BOLIVAR', ..., '45.0', '41.0', '47.0'],\n",
       "       ...,\n",
       "       ['F', 'No', 'BOLIVAR', ..., '45.0', '35.0', '36.0'],\n",
       "       ['M', 'No', 'BOLIVAR', ..., '30.0', '40.0', '52.0'],\n",
       "       ['M', 'No', 'BOLIVAR', ..., '32.0', '41.0', '52.0']], dtype='<U21')"
      ]
     },
     "execution_count": 9,
     "metadata": {},
     "output_type": "execute_result"
    }
   ],
   "source": [
    "X_test"
   ]
  },
  {
   "cell_type": "code",
   "execution_count": 10,
   "id": "ef3e9d80-ed06-4fea-8181-b6e4d2c7740c",
   "metadata": {},
   "outputs": [],
   "source": [
    "oe = OrdinalEncoder()\n",
    "oe.fit(X_train)\n",
    "X_train_enc = oe.transform(X_train)\n",
    "oe.fit(X_test)\n",
    "X_test_enc = oe.transform(X_test)"
   ]
  },
  {
   "cell_type": "code",
   "execution_count": 11,
   "id": "ac5b9210-df1d-49fc-8f97-d612ae2d465b",
   "metadata": {},
   "outputs": [
    {
     "name": "stderr",
     "output_type": "stream",
     "text": [
      "/home/jest/anaconda3/envs/javeriana_tf/lib/python3.9/site-packages/sklearn/preprocessing/_label.py:98: DataConversionWarning: A column-vector y was passed when a 1d array was expected. Please change the shape of y to (n_samples, ), for example using ravel().\n",
      "  y = column_or_1d(y, warn=True)\n",
      "/home/jest/anaconda3/envs/javeriana_tf/lib/python3.9/site-packages/sklearn/preprocessing/_label.py:133: DataConversionWarning: A column-vector y was passed when a 1d array was expected. Please change the shape of y to (n_samples, ), for example using ravel().\n",
      "  y = column_or_1d(y, warn=True)\n"
     ]
    }
   ],
   "source": [
    "le = LabelEncoder()\n",
    "le.fit(y_train)\n",
    "y_train_enc = le.transform(y_train)\n",
    "y_test_enc = le.transform(y_test)\n",
    "y_train_enc = np_utils.to_categorical(y_train_enc)\n",
    "y_test_enc = np_utils.to_categorical(y_test_enc)"
   ]
  },
  {
   "cell_type": "markdown",
   "id": "4c2d9881-3b22-4219-83d6-d83e21c7b793",
   "metadata": {},
   "source": [
    "# Modelo bayesiano "
   ]
  },
  {
   "cell_type": "code",
   "execution_count": 34,
   "id": "da7dfb2a-6e7b-4233-a108-fb582f2dc14f",
   "metadata": {},
   "outputs": [],
   "source": [
    "\n",
    "import numpy as np\n",
    "from sklearn import datasets\n",
    "import torch\n",
    "import torch.nn as nn\n",
    "import torch.optim as optim\n",
    "import torchbnn as bnn\n",
    "import matplotlib.pyplot as plt\n",
    "%matplotlib inline\n",
    "\n",
    "from collections import OrderedDict\n",
    "\n"
   ]
  },
  {
   "cell_type": "code",
   "execution_count": 48,
   "id": "8115103e-3f3a-4ba1-8439-9c0fa715998a",
   "metadata": {},
   "outputs": [
    {
     "data": {
      "text/plain": [
       "array([2, 0, 0, ..., 1, 1, 1])"
      ]
     },
     "execution_count": 48,
     "metadata": {},
     "output_type": "execute_result"
    }
   ],
   "source": [
    "from sklearn import preprocessing\n",
    "le = preprocessing.LabelEncoder()\n",
    "y_train_enc = le.fit_transform(y_train)\n",
    "# targets: array([0, 1, 2, 3])\n",
    "y_train_enc\n",
    "#targets = torch.as_tensor(targets)"
   ]
  },
  {
   "cell_type": "code",
   "execution_count": 56,
   "id": "74556a45-4252-4ed9-b37c-784ac72f2321",
   "metadata": {},
   "outputs": [
    {
     "name": "stdout",
     "output_type": "stream",
     "text": [
      "torch.Size([3168, 22]) torch.Size([3168])\n"
     ]
    }
   ],
   "source": [
    "X = X_train\n",
    "Y = y_train_enc\n",
    "x = torch.from_numpy(X_train_enc).float()\n",
    "y = torch.from_numpy(y_train_enc).long()\n",
    "print(x.shape, y.shape)"
   ]
  },
  {
   "cell_type": "markdown",
   "id": "b9dd71a6-5790-4095-b385-f9c46db7976d",
   "metadata": {},
   "source": [
    "# Test Modelo Bayes"
   ]
  },
  {
   "cell_type": "code",
   "execution_count": 66,
   "id": "ed453b84-9c37-47b3-83a0-7358d2e3e96d",
   "metadata": {},
   "outputs": [],
   "source": [
    "model = nn.Sequential(nn.Sequential(OrderedDict([\n",
    "    ('capa_bayes_1',bnn.BayesLinear(prior_mu=0, prior_sigma=0.1, in_features=22, out_features=64)),# Num features\n",
    "    ('sigmoide_1', nn.Sigmoid()),       \n",
    "    ('capa_bayes_2',bnn.BayesLinear(prior_mu=0, prior_sigma=0.1, in_features=64, out_features=16)),# Num features\n",
    "    ('sigmoide_2', nn.Sigmoid()),\n",
    "    ('capa_bayes_3',bnn.BayesLinear(prior_mu=0, prior_sigma=0.1, in_features=16, out_features=3)),# Num features\n",
    "    ('sigmoide_3', nn.Sigmoid()),\n",
    "        ])))\n"
   ]
  },
  {
   "cell_type": "code",
   "execution_count": 67,
   "id": "e53f352c-beb7-4a16-bf94-97e317b65a37",
   "metadata": {},
   "outputs": [
    {
     "name": "stdout",
     "output_type": "stream",
     "text": [
      "Sequential(\n",
      "  (0): Sequential(\n",
      "    (capa_bayes_1): BayesLinear(prior_mu=0, prior_sigma=0.1, in_features=22, out_features=64, bias=True)\n",
      "    (sigmoide_1): Sigmoid()\n",
      "    (capa_bayes_2): BayesLinear(prior_mu=0, prior_sigma=0.1, in_features=64, out_features=16, bias=True)\n",
      "    (sigmoide_2): Sigmoid()\n",
      "    (capa_bayes_3): BayesLinear(prior_mu=0, prior_sigma=0.1, in_features=16, out_features=3, bias=True)\n",
      "    (sigmoide_3): Sigmoid()\n",
      "  )\n",
      ")\n"
     ]
    }
   ],
   "source": [
    "print(model)"
   ]
  },
  {
   "cell_type": "code",
   "execution_count": 68,
   "id": "5821ceda-9bf0-43aa-a0bd-312d4bcb5968",
   "metadata": {},
   "outputs": [],
   "source": [
    "ce_loss = nn.CrossEntropyLoss()\n",
    "kl_loss = bnn.BKLLoss(reduction='mean', last_layer_only=False)\n",
    "kl_weight = 0.01\n",
    "optimizer = optim.Adam(model.parameters(), lr=0.01)"
   ]
  },
  {
   "cell_type": "code",
   "execution_count": 69,
   "id": "7a116eb8-3bcd-481e-9939-20c8134d5c55",
   "metadata": {},
   "outputs": [
    {
     "name": "stdout",
     "output_type": "stream",
     "text": [
      "- Accuracy: 80.934343 %\n",
      "- CE : 0.73, KL : 1.05\n",
      "CPU times: user 1min 15s, sys: 755 ms, total: 1min 16s\n",
      "Wall time: 19.2 s\n"
     ]
    }
   ],
   "source": [
    "%%time\n",
    "kl_weight = 0.1\n",
    "for step in range(3000):\n",
    "    pre = model(x)\n",
    "    ce = ce_loss(pre, y)\n",
    "    kl = kl_loss(model)\n",
    "    cost = ce + kl_weight*kl\n",
    "    \n",
    "    optimizer.zero_grad()\n",
    "    cost.backward()\n",
    "    optimizer.step()\n",
    "    \n",
    "_, predicted = torch.max(pre.data, 1)\n",
    "total = y.size(0)\n",
    "correct = (predicted == y).sum()\n",
    "print('- Accuracy: %f %%' % (100 * float(correct) / total))\n",
    "print('- CE : %2.2f, KL : %2.2f' % (ce.item(), kl.item()))\n"
   ]
  },
  {
   "cell_type": "markdown",
   "id": "94d2c081-d1ef-4351-8658-33acda1905e2",
   "metadata": {},
   "source": [
    "# Experimentos Bayes"
   ]
  },
  {
   "cell_type": "code",
   "execution_count": 72,
   "id": "613952cb-d180-442a-9b0f-ccdcc6d3db6c",
   "metadata": {},
   "outputs": [],
   "source": [
    "def red_bayesiana(reduction_ = 'mean', kl_weight = 0.01, lr_= 0.01, prior_mu_ = 0, prior_sigma_ = 0.1, step_ = 3000):\n",
    "    model = nn.Sequential(nn.Sequential(OrderedDict([\n",
    "    ('capa_bayes_1',bnn.BayesLinear(prior_mu=prior_mu_, prior_sigma=prior_sigma_, in_features=22, out_features=64)),# Num features\n",
    "    ('sigmoide_1', nn.Sigmoid()),       \n",
    "    ('capa_bayes_2',bnn.BayesLinear(prior_mu=prior_mu_, prior_sigma=prior_sigma_, in_features=64, out_features=16)),# Num features\n",
    "    ('sigmoide_2', nn.Sigmoid()),\n",
    "    ('capa_bayes_3',bnn.BayesLinear(prior_mu=prior_mu_, prior_sigma=prior_sigma_, in_features=16, out_features=3)),# Num features\n",
    "    ('sigmoide_3', nn.Sigmoid()),\n",
    "        ])))\n",
    "    \n",
    "    ce_loss = nn.CrossEntropyLoss()\n",
    "    kl_loss = bnn.BKLLoss(reduction=reduction_, last_layer_only=False)\n",
    "    \n",
    "    optimizer = optim.Adam(model.parameters(), lr=lr_)\n",
    "    \n",
    "\n",
    "    for step in range(step_):\n",
    "        pre = model(x)\n",
    "        ce = ce_loss(pre, y)\n",
    "        kl = kl_loss(model)\n",
    "        cost = ce + kl_weight*kl\n",
    "\n",
    "        optimizer.zero_grad()\n",
    "        cost.backward()\n",
    "        optimizer.step()\n",
    "\n",
    "    _, predicted = torch.max(pre.data, 1)\n",
    "    total = y.size(0)\n",
    "    correct = (predicted == y).sum()\n",
    "    print('- Accuracy: %f %%' % (100 * float(correct) / total))\n",
    "    print('- CE : %2.2f, KL : %2.2f' % (ce.item(), kl.item()))\n",
    "    print('-'*100)\n",
    "\n"
   ]
  },
  {
   "cell_type": "code",
   "execution_count": 73,
   "id": "595df795-830f-4643-bcf8-7f35a0407077",
   "metadata": {},
   "outputs": [
    {
     "name": "stdout",
     "output_type": "stream",
     "text": [
      "- Accuracy: 81.786616 %\n",
      "- CE : 0.65, KL : 3.61\n",
      "----------------------------------------------------------------------------------------------------\n"
     ]
    }
   ],
   "source": [
    "red_bayesiana(reduction_ = 'mean', kl_weight = 0.01, lr_= 0.01, prior_mu_ = 0, prior_sigma_ = 0.1, step_ = 3000)"
   ]
  },
  {
   "cell_type": "code",
   "execution_count": 74,
   "id": "554f7a1d-3047-407f-914f-dc1803e0fc5d",
   "metadata": {},
   "outputs": [
    {
     "name": "stdout",
     "output_type": "stream",
     "text": [
      "- Accuracy: 54.987374 %\n",
      "- CE : 1.09, KL : 1.40\n",
      "----------------------------------------------------------------------------------------------------\n"
     ]
    }
   ],
   "source": [
    "red_bayesiana(reduction_ = 'sum', kl_weight = 0.01, lr_= 0.01, prior_mu_ = 0, prior_sigma_ = 0.1, step_ = 3000)"
   ]
  },
  {
   "cell_type": "code",
   "execution_count": 75,
   "id": "be0e3ea2-b1e7-479f-b5a2-e065d72389b8",
   "metadata": {},
   "outputs": [
    {
     "name": "stdout",
     "output_type": "stream",
     "text": [
      "- Accuracy: 54.987374 %\n",
      "- CE : 1.00, KL : 2.54\n",
      "----------------------------------------------------------------------------------------------------\n"
     ]
    }
   ],
   "source": [
    "red_bayesiana(reduction_ = 'mean', kl_weight = 0.01, lr_= 0.01, prior_mu_ = 0, prior_sigma_ = 0.01, step_ = 3000)"
   ]
  },
  {
   "cell_type": "code",
   "execution_count": 76,
   "id": "a40d4f5b-f13c-4da5-af3f-f28f4afa7ac7",
   "metadata": {},
   "outputs": [
    {
     "name": "stdout",
     "output_type": "stream",
     "text": [
      "- Accuracy: 81.755051 %\n",
      "- CE : 0.62, KL : 0.83\n",
      "----------------------------------------------------------------------------------------------------\n"
     ]
    }
   ],
   "source": [
    "red_bayesiana(reduction_ = 'mean', kl_weight = 0.01, lr_= 0.01, prior_mu_ = 0, prior_sigma_ = 0.5, step_ = 3000)"
   ]
  },
  {
   "cell_type": "code",
   "execution_count": 78,
   "id": "6c38f71b-7651-44d2-99f3-b5803aed69a5",
   "metadata": {},
   "outputs": [
    {
     "name": "stdout",
     "output_type": "stream",
     "text": [
      "- Accuracy: 72.190657 %\n",
      "- CE : 0.76, KL : 0.56\n",
      "----------------------------------------------------------------------------------------------------\n"
     ]
    }
   ],
   "source": [
    "red_bayesiana(reduction_ = 'mean', kl_weight = 0.01, lr_= 0.01, prior_mu_ = -0.5, prior_sigma_ = 1, step_ = 3000)"
   ]
  },
  {
   "cell_type": "code",
   "execution_count": 80,
   "id": "1850d3ac-69ae-451c-8699-02ed63fe0f82",
   "metadata": {},
   "outputs": [
    {
     "name": "stdout",
     "output_type": "stream",
     "text": [
      "- Accuracy: 54.987374 %\n",
      "- CE : 1.00, KL : 2.86\n",
      "----------------------------------------------------------------------------------------------------\n"
     ]
    }
   ],
   "source": [
    "red_bayesiana(reduction_ = 'mean', kl_weight = 0.01, lr_= 1, prior_mu_ = 0, prior_sigma_ = 1, step_ = 3000)"
   ]
  }
 ],
 "metadata": {
  "kernelspec": {
   "display_name": "Python 3 (ipykernel)",
   "language": "python",
   "name": "python3"
  },
  "language_info": {
   "codemirror_mode": {
    "name": "ipython",
    "version": 3
   },
   "file_extension": ".py",
   "mimetype": "text/x-python",
   "name": "python",
   "nbconvert_exporter": "python",
   "pygments_lexer": "ipython3",
   "version": "3.9.12"
  }
 },
 "nbformat": 4,
 "nbformat_minor": 5
}
