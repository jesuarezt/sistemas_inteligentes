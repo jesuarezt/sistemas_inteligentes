{
 "cells": [
  {
   "cell_type": "markdown",
   "id": "99c84504-13c0-46ea-b5ab-d973ad5d48f8",
   "metadata": {},
   "source": [
    "# Librerias"
   ]
  },
  {
   "cell_type": "code",
   "execution_count": 1,
   "id": "f199d534-4ae5-49e1-938a-4e1448e23c00",
   "metadata": {},
   "outputs": [
    {
     "name": "stderr",
     "output_type": "stream",
     "text": [
      "2022-04-27 19:41:57.856127: I tensorflow/stream_executor/platform/default/dso_loader.cc:49] Successfully opened dynamic library libcudart.so.10.1\n"
     ]
    }
   ],
   "source": [
    "import pandas as pd\n",
    "import numpy as np\n",
    "import sklearn\n",
    "\n",
    "from sklearn.model_selection import train_test_split\n",
    "from sklearn.preprocessing import OrdinalEncoder\n",
    "from sklearn.preprocessing import LabelEncoder\n",
    "from sklearn.model_selection import GridSearchCV \n",
    "from sklearn.metrics import confusion_matrix\n",
    "from keras.utils.vis_utils import plot_model\n",
    "\n",
    "from keras.models import Sequential\n",
    "from keras.layers import Dense\n",
    "from keras.wrappers.scikit_learn import KerasClassifier\n",
    "\n",
    "from keras.utils import np_utils\n",
    "import tensorflow\n",
    "\n",
    "import seaborn as sns\n",
    "import matplotlib.pyplot as plt\n",
    "import os\n",
    "\n",
    "import pygad.kerasga\n",
    "\n",
    "#Para Paralelizar\n",
    "from tqdm import tqdm\n",
    "from multiprocessing.dummy import Pool\n",
    "\n",
    "import warnings\n",
    "#PARA ANOVA 1-1\n",
    "from bioinfokit.analys import stat\n",
    "\n",
    "warnings.filterwarnings('ignore')"
   ]
  },
  {
   "cell_type": "code",
   "execution_count": 2,
   "id": "193446d4-ca6e-4982-a65e-e499c4986cdb",
   "metadata": {},
   "outputs": [],
   "source": [
    "pool = Pool(16)"
   ]
  },
  {
   "cell_type": "markdown",
   "id": "28d6492f-fc8c-41c7-bd7a-917a6ee5e9ee",
   "metadata": {},
   "source": [
    "# Variables GLobales"
   ]
  },
  {
   "cell_type": "code",
   "execution_count": 3,
   "id": "b1fcdbfb-eab8-4619-9d95-14bac6493052",
   "metadata": {},
   "outputs": [],
   "source": [
    "os.chdir(r\"/home/jest/Documents/personal/sistemas inteligentes/proyecto/segunda entrega\")\n",
    "path_name_model = 'dataset/datos_para_modelo.csv'"
   ]
  },
  {
   "cell_type": "markdown",
   "id": "ea643d29-8590-42b5-9286-9afba40ea778",
   "metadata": {},
   "source": [
    "### 1. Carga Dataset"
   ]
  },
  {
   "cell_type": "code",
   "execution_count": 4,
   "id": "b0a39acf-2dcb-4758-9d6b-9b17eadd7931",
   "metadata": {},
   "outputs": [],
   "source": [
    "df = pd.read_csv(path_name_model, sep='|')"
   ]
  },
  {
   "cell_type": "markdown",
   "id": "a61c6584-2bf7-42de-a1c4-88c3cee14276",
   "metadata": {},
   "source": [
    "### 2. Filtro de dataset"
   ]
  },
  {
   "cell_type": "code",
   "execution_count": 5,
   "id": "d41f4dd6-5460-49e5-aeb3-12ff5c1048e9",
   "metadata": {},
   "outputs": [],
   "source": [
    "df = df.iloc[:,1:]"
   ]
  },
  {
   "cell_type": "code",
   "execution_count": 6,
   "id": "0f51d525-005e-4c4a-a379-f843b6e72071",
   "metadata": {},
   "outputs": [
    {
     "name": "stdout",
     "output_type": "stream",
     "text": [
      "<class 'pandas.core.frame.DataFrame'>\n",
      "RangeIndex: 4526 entries, 0 to 4525\n",
      "Data columns (total 23 columns):\n",
      " #   Column                        Non-Null Count  Dtype  \n",
      "---  ------                        --------------  -----  \n",
      " 0   estu_genero                   4526 non-null   object \n",
      " 1   estu_tieneetnia               4526 non-null   object \n",
      " 2   estu_depto_reside             4526 non-null   object \n",
      " 3   estu_mcpio_reside             4526 non-null   object \n",
      " 4   fami_estratovivienda          4526 non-null   object \n",
      " 5   fami_personashogar            4526 non-null   object \n",
      " 6   fami_cuartoshogar             4526 non-null   object \n",
      " 7   fami_tieneinternet            4526 non-null   object \n",
      " 8   fami_tieneserviciotv          4526 non-null   object \n",
      " 9   fami_tienecomputador          4526 non-null   object \n",
      " 10  fami_tienelavadora            4526 non-null   object \n",
      " 11  fami_tienehornomicroogas      4526 non-null   object \n",
      " 12  fami_tieneautomovil           4526 non-null   object \n",
      " 13  fami_tienemotocicleta         4526 non-null   object \n",
      " 14  fami_tieneconsolavideojuegos  4526 non-null   object \n",
      " 15  cole_bilingue                 4526 non-null   object \n",
      " 16  punt_global                   4526 non-null   float64\n",
      " 17  punt_lectura_critica          4526 non-null   float64\n",
      " 18  punt_matematicas              4526 non-null   float64\n",
      " 19  punt_c_naturales              4526 non-null   float64\n",
      " 20  punt_sociales_ciudadanas      4526 non-null   float64\n",
      " 21  punt_ingles                   4526 non-null   float64\n",
      " 22  desempenio                    4526 non-null   object \n",
      "dtypes: float64(6), object(17)\n",
      "memory usage: 813.4+ KB\n"
     ]
    }
   ],
   "source": [
    "df.info()"
   ]
  },
  {
   "cell_type": "code",
   "execution_count": 7,
   "id": "49255bf9-d8ff-4fe0-8090-3b32767d701b",
   "metadata": {},
   "outputs": [],
   "source": [
    "dataset = df.values"
   ]
  },
  {
   "cell_type": "markdown",
   "id": "9518d13a-8860-43f4-961c-2a61e93e2dc4",
   "metadata": {},
   "source": [
    "### 3. Separación muestra entrenamiento y testing"
   ]
  },
  {
   "cell_type": "code",
   "execution_count": 8,
   "id": "b0420ca9-ef34-4aaa-82a4-a5fade279d30",
   "metadata": {},
   "outputs": [
    {
     "name": "stdout",
     "output_type": "stream",
     "text": [
      "Train (3168, 22) (3168, 1)\n",
      "Test (1358, 22) (1358, 1)\n"
     ]
    }
   ],
   "source": [
    "X = dataset[:, :-1]\n",
    "y = dataset[:,-1]\n",
    "X = X.astype(str)\n",
    "y = y.reshape((len(y), 1))\n",
    "X_train, X_test, y_train, y_test = train_test_split(X, y, test_size=0.30, random_state=1)\n",
    "print('Train', X_train.shape, y_train.shape)\n",
    "print('Test', X_test.shape, y_test.shape)"
   ]
  },
  {
   "cell_type": "code",
   "execution_count": 9,
   "id": "0f0f39b6-7db8-48fe-8a95-08705f11131e",
   "metadata": {},
   "outputs": [],
   "source": [
    "oe = OrdinalEncoder()\n",
    "oe.fit(X_train)\n",
    "X_train_enc = oe.transform(X_train)\n",
    "oe.fit(X_test)\n",
    "X_test_enc = oe.transform(X_test)"
   ]
  },
  {
   "cell_type": "code",
   "execution_count": 10,
   "id": "e6b2c005-cacc-482f-a829-86e94f689448",
   "metadata": {},
   "outputs": [],
   "source": [
    "le = LabelEncoder()\n",
    "le.fit(y_train)\n",
    "y_train_enc = le.transform(y_train)\n",
    "y_test_enc = le.transform(y_test)\n",
    "y_train_enc = np_utils.to_categorical(y_train_enc)\n",
    "y_test_enc = np_utils.to_categorical(y_test_enc)\n",
    "\n",
    "data_inputs = X_train_enc\n",
    "data_outputs = y_train_enc"
   ]
  },
  {
   "cell_type": "markdown",
   "id": "025a9b29-0245-4d02-bbc3-a770fcc683d4",
   "metadata": {},
   "source": [
    "### 4. Modelo Redes Neuronales\n",
    "\n",
    "Del primer entregable tenemos que el mejor modelo es\n",
    "- Mejor modelo: función de activación sigmoide\n",
    "- 15 épocas\n",
    "- optimizador de Adam"
   ]
  },
  {
   "cell_type": "code",
   "execution_count": 11,
   "id": "12c36227-5be3-4563-8d4f-b02fde77d53a",
   "metadata": {},
   "outputs": [
    {
     "name": "stderr",
     "output_type": "stream",
     "text": [
      "2022-04-27 19:41:59.696033: I tensorflow/compiler/jit/xla_cpu_device.cc:41] Not creating XLA devices, tf_xla_enable_xla_devices not set\n",
      "2022-04-27 19:41:59.696231: W tensorflow/stream_executor/platform/default/dso_loader.cc:60] Could not load dynamic library 'libcuda.so.1'; dlerror: libcuda.so.1: cannot open shared object file: No such file or directory\n",
      "2022-04-27 19:41:59.696239: W tensorflow/stream_executor/cuda/cuda_driver.cc:326] failed call to cuInit: UNKNOWN ERROR (303)\n",
      "2022-04-27 19:41:59.696250: I tensorflow/stream_executor/cuda/cuda_diagnostics.cc:156] kernel driver does not appear to be running on this host (jest): /proc/driver/nvidia/version does not exist\n",
      "2022-04-27 19:41:59.696398: I tensorflow/core/platform/cpu_feature_guard.cc:142] This TensorFlow binary is optimized with oneAPI Deep Neural Network Library (oneDNN) to use the following CPU instructions in performance-critical operations:  SSE4.1 SSE4.2 AVX AVX2 FMA\n",
      "To enable them in other operations, rebuild TensorFlow with the appropriate compiler flags.\n",
      "2022-04-27 19:41:59.696622: I tensorflow/compiler/jit/xla_gpu_device.cc:99] Not creating XLA devices, tf_xla_enable_xla_devices not set\n"
     ]
    }
   ],
   "source": [
    "# modelo de 3 capas (1 oculta)\n",
    "model = Sequential()\n",
    "model.add(Dense(64, input_dim=X_train_enc.shape[1], activation='sigmoid', kernel_initializer='he_normal'))\n",
    "model.add(Dense(16, activation='sigmoid', kernel_initializer='he_normal'))\n",
    "model.add(Dense(3, activation='sigmoid'))"
   ]
  },
  {
   "cell_type": "code",
   "execution_count": 12,
   "id": "e74c2619-edda-4dae-b3b0-f993a7f102fe",
   "metadata": {},
   "outputs": [
    {
     "name": "stdout",
     "output_type": "stream",
     "text": [
      "Model: \"sequential\"\n",
      "_________________________________________________________________\n",
      "Layer (type)                 Output Shape              Param #   \n",
      "=================================================================\n",
      "dense (Dense)                (None, 64)                1472      \n",
      "_________________________________________________________________\n",
      "dense_1 (Dense)              (None, 16)                1040      \n",
      "_________________________________________________________________\n",
      "dense_2 (Dense)              (None, 3)                 51        \n",
      "=================================================================\n",
      "Total params: 2,563\n",
      "Trainable params: 2,563\n",
      "Non-trainable params: 0\n",
      "_________________________________________________________________\n"
     ]
    }
   ],
   "source": [
    "model.summary()"
   ]
  },
  {
   "cell_type": "code",
   "execution_count": 13,
   "id": "0fff321c-1a90-494c-b1d0-2ea20e9952b0",
   "metadata": {},
   "outputs": [
    {
     "data": {
      "image/png": "[encoded data removed]",
      "text/plain": [
       "<IPython.core.display.Image object>"
      ]
     },
     "execution_count": 13,
     "metadata": {},
     "output_type": "execute_result"
    }
   ],
   "source": [
    "plot_model(model, \n",
    "         show_shapes=True, show_layer_names=True)"
   ]
  },
  {
   "cell_type": "code",
   "execution_count": 14,
   "id": "e44958ea-e042-4711-98f3-b52a7d6398e0",
   "metadata": {},
   "outputs": [
    {
     "name": "stderr",
     "output_type": "stream",
     "text": [
      "2022-04-27 19:41:59.864415: I tensorflow/compiler/mlir/mlir_graph_optimization_pass.cc:116] None of the MLIR optimization passes are enabled (registered 2)\n",
      "2022-04-27 19:41:59.882249: I tensorflow/core/platform/profile_utils/cpu_utils.cc:112] CPU Frequency: 2299965000 Hz\n"
     ]
    },
    {
     "name": "stdout",
     "output_type": "stream",
     "text": [
      "Resultados bajo consideración Primer Ejercicio\n",
      "Epoch 1/30\n",
      "198/198 - 0s - loss: 0.5697 - accuracy: 0.5290\n",
      "Epoch 2/30\n",
      "198/198 - 0s - loss: 0.4094 - accuracy: 0.7251\n",
      "Epoch 3/30\n",
      "198/198 - 0s - loss: 0.3116 - accuracy: 0.8261\n",
      "Epoch 4/30\n",
      "198/198 - 0s - loss: 0.2636 - accuracy: 0.8876\n",
      "Epoch 5/30\n",
      "198/198 - 0s - loss: 0.2304 - accuracy: 0.9097\n",
      "Epoch 6/30\n",
      "198/198 - 0s - loss: 0.2017 - accuracy: 0.9233\n",
      "Epoch 7/30\n",
      "198/198 - 0s - loss: 0.1764 - accuracy: 0.9296\n",
      "Epoch 8/30\n",
      "198/198 - 0s - loss: 0.1558 - accuracy: 0.9375\n",
      "Epoch 9/30\n",
      "198/198 - 0s - loss: 0.1396 - accuracy: 0.9438\n",
      "Epoch 10/30\n",
      "198/198 - 0s - loss: 0.1239 - accuracy: 0.9517\n",
      "Epoch 11/30\n",
      "198/198 - 0s - loss: 0.1128 - accuracy: 0.9473\n",
      "Epoch 12/30\n",
      "198/198 - 0s - loss: 0.1015 - accuracy: 0.9549\n",
      "Epoch 13/30\n",
      "198/198 - 0s - loss: 0.0949 - accuracy: 0.9571\n",
      "Epoch 14/30\n",
      "198/198 - 0s - loss: 0.0856 - accuracy: 0.9634\n",
      "Epoch 15/30\n",
      "198/198 - 0s - loss: 0.0793 - accuracy: 0.9640\n",
      "Epoch 16/30\n",
      "198/198 - 0s - loss: 0.0723 - accuracy: 0.9719\n",
      "Epoch 17/30\n",
      "198/198 - 0s - loss: 0.0723 - accuracy: 0.9650\n",
      "Epoch 18/30\n",
      "198/198 - 0s - loss: 0.0651 - accuracy: 0.9694\n",
      "Epoch 19/30\n",
      "198/198 - 0s - loss: 0.0625 - accuracy: 0.9691\n",
      "Epoch 20/30\n",
      "198/198 - 0s - loss: 0.0579 - accuracy: 0.9713\n",
      "Epoch 21/30\n",
      "198/198 - 0s - loss: 0.0561 - accuracy: 0.9688\n",
      "Epoch 22/30\n",
      "198/198 - 0s - loss: 0.0564 - accuracy: 0.9691\n",
      "Epoch 23/30\n",
      "198/198 - 0s - loss: 0.0523 - accuracy: 0.9732\n",
      "Epoch 24/30\n",
      "198/198 - 0s - loss: 0.0506 - accuracy: 0.9744\n",
      "Epoch 25/30\n",
      "198/198 - 0s - loss: 0.0530 - accuracy: 0.9716\n",
      "Epoch 26/30\n",
      "198/198 - 0s - loss: 0.0542 - accuracy: 0.9665\n",
      "Epoch 27/30\n",
      "198/198 - 0s - loss: 0.0467 - accuracy: 0.9735\n",
      "Epoch 28/30\n",
      "198/198 - 0s - loss: 0.0447 - accuracy: 0.9770\n",
      "Epoch 29/30\n",
      "198/198 - 0s - loss: 0.0462 - accuracy: 0.9710\n",
      "Epoch 30/30\n",
      "198/198 - 0s - loss: 0.0429 - accuracy: 0.9766\n",
      "Accuracy Test: 86.08\n"
     ]
    }
   ],
   "source": [
    "print('Resultados bajo consideración Primer Ejercicio')\n",
    "# compile the keras model\n",
    "model.compile(loss='binary_crossentropy', optimizer='adam', metrics=['accuracy'])\n",
    "# fit the keras model on the dataset\n",
    "model.fit(X_train_enc, y_train_enc, epochs=30, batch_size=16, verbose=2)\n",
    "# evaluate the keras model\n",
    "_, accuracy = model.evaluate(X_test_enc, y_test_enc, verbose=0)\n",
    "print('Accuracy Test: %.2f' % (accuracy*100))"
   ]
  },
  {
   "cell_type": "markdown",
   "id": "d9ad4acc-b348-4190-9e7b-2f983c7dca9d",
   "metadata": {},
   "source": [
    "### 5. Implementando factor Genetico"
   ]
  },
  {
   "cell_type": "code",
   "execution_count": 15,
   "id": "feb145d2-278b-4cd5-b211-ad35428edf91",
   "metadata": {},
   "outputs": [],
   "source": [
    "def fitness_func(solution, sol_idx):\n",
    "    global data_inputs, data_outputs, keras_ga, model\n",
    "\n",
    "    model_weights_matrix = pygad.kerasga.model_weights_as_matrix(model=model,\n",
    "                                                                 weights_vector=solution)\n",
    "\n",
    "    model.set_weights(weights=model_weights_matrix)\n",
    "\n",
    "    predictions = model.predict(data_inputs)\n",
    "\n",
    "    mae = tensorflow.keras.losses.MeanAbsoluteError()\n",
    "    abs_error = mae(data_outputs, predictions).numpy() + 0.00000001\n",
    "    solution_fitness = 1.0 / abs_error\n",
    "\n",
    "    return solution_fitness\n",
    "\n",
    "def callback_generation(ga_instance):\n",
    "    print(\"Generation = {generation}\".format(generation=ga_instance.generations_completed))\n",
    "    print(\"Fitness    = {fitness}\".format(fitness=ga_instance.best_solution()[1]))\n"
   ]
  },
  {
   "cell_type": "code",
   "execution_count": 16,
   "id": "48970ad6-ebde-48ed-92db-ab4731bbd2e6",
   "metadata": {},
   "outputs": [],
   "source": [
    "def grid_ag_manual_model(model, \n",
    "                   num_solutions_,\n",
    "                   data_inputs = X_train_enc,\n",
    "                   data_outputs = y_train_enc,\n",
    "                   num_generations = 50,\n",
    "                   num_parents_mating = 5,\n",
    "                   parent_selection_type_= 'sss',\n",
    "                   keep_parents_ = -1,\n",
    "                   mutation_type_ = 'random'):\n",
    "    weights_vector = pygad.kerasga.model_weights_as_vector(model=model)\n",
    "    keras_ga = pygad.kerasga.KerasGA(model=model,\n",
    "                                 num_solutions=num_solutions_)\n",
    "    initial_population = keras_ga.population_weights\n",
    "    ga_instance = pygad.GA(num_generations=num_generations, \n",
    "                           num_parents_mating=num_solutions_, \n",
    "                           initial_population=initial_population,\n",
    "                           parent_selection_type= parent_selection_type_,\n",
    "                           keep_parents = keep_parents_,\n",
    "                           mutation_type = mutation_type_,\n",
    "                           fitness_func=fitness_func,\n",
    "                           mutation_percent_genes= 'default' if mutation_type_ != 'adaptive' else [0.5, 0.5],\n",
    "                          # on_generation=callback_generation\n",
    "                          )\n",
    "    \n",
    "    ga_instance.run()\n",
    "    \n",
    "    \n",
    "    return ga_instance"
   ]
  },
  {
   "cell_type": "code",
   "execution_count": 17,
   "id": "99260c78-38c3-405d-9b16-aa654bafa71f",
   "metadata": {},
   "outputs": [],
   "source": [
    "def grid_ag_manual(model, \n",
    "                   num_solutions_,\n",
    "                   data_inputs = X_train_enc,\n",
    "                   data_outputs = y_train_enc,\n",
    "                   num_generations = 50,\n",
    "                   num_parents_mating = 5,\n",
    "                   parent_selection_type_= 'sss',\n",
    "                   keep_parents_ = -1,\n",
    "                   mutation_type_ = 'random'):\n",
    "    weights_vector = pygad.kerasga.model_weights_as_vector(model=model)\n",
    "    keras_ga = pygad.kerasga.KerasGA(model=model,\n",
    "                                 num_solutions=num_solutions_)\n",
    "    initial_population = keras_ga.population_weights\n",
    "    ga_instance = pygad.GA(num_generations=num_generations, \n",
    "                           num_parents_mating=num_solutions_, \n",
    "                           initial_population=initial_population,\n",
    "                           parent_selection_type= parent_selection_type_,\n",
    "                           keep_parents = keep_parents_,\n",
    "                           mutation_type = mutation_type_,\n",
    "                           fitness_func=fitness_func,\n",
    "                           mutation_percent_genes= 'default' if mutation_type_ != 'adaptive' else [0.5, 0.5],\n",
    "                          # on_generation=callback_generation\n",
    "                          )\n",
    "    \n",
    "    ga_instance.run()\n",
    "    \n",
    "    # Returning the details of the best solution.\n",
    "    solution, solution_fitness, solution_idx = ga_instance.best_solution()\n",
    "    \n",
    "    #print(\"Fitness value of the best solution = {solution_fitness}\".format(solution_fitness=solution_fitness))\n",
    "    #print(\"Index of the best solution : {solution_idx}\".format(solution_idx=solution_idx))\n",
    "    \n",
    "    # Fetch the parameters of the best solution.\n",
    "    best_solution_weights = pygad.kerasga.model_weights_as_matrix(model=model,\n",
    "                                                              weights_vector=solution)\n",
    "    \n",
    "    model.set_weights(best_solution_weights)\n",
    "    predictions = model.predict(data_inputs)\n",
    "    #print(\"Predictions : \\n\", predictions)\n",
    "    \n",
    "    # Calculate the categorical crossentropy for the trained model.\n",
    "    cce = tensorflow.keras.losses.CategoricalCrossentropy()\n",
    "    #print(\"Categorical Crossentropy : \", cce(data_outputs, predictions).numpy())\n",
    "\n",
    "    # Calculate the classification accuracy for the trained model.\n",
    "    ca = tensorflow.keras.metrics.CategoricalAccuracy()\n",
    "    ca.update_state(data_outputs, predictions)\n",
    "    #print(ca.result())\n",
    "    accuracy = ca.result().numpy()\n",
    "    #print(\"Accuracy : \", accuracy)\n",
    "\n",
    "\n",
    "    return_value = (num_solutions_,\n",
    "                    num_generations,\n",
    "                     num_parents_mating,\n",
    "                     parent_selection_type_,\n",
    "                     keep_parents_,\n",
    "                     mutation_type_,\n",
    "                     solution_fitness, solution_idx, cce(data_outputs, predictions).numpy(), accuracy )\n",
    "    return return_value\n",
    "\n",
    "# num_generations\n",
    "# num_parents_mating\n",
    "# parent_selection_type\n",
    "# keep_parents_\n",
    "# mutation_type\n",
    "# solution_fitness\n",
    "# solution_idx\n",
    "# entriopia\n",
    "# accuracy\n",
    "\n"
   ]
  },
  {
   "cell_type": "code",
   "execution_count": 18,
   "id": "fc6e6203-c8b4-4978-afd6-606c04db2e91",
   "metadata": {},
   "outputs": [
    {
     "data": {
      "text/html": [
       "<div>\n",
       "<style scoped>\n",
       "    .dataframe tbody tr th:only-of-type {\n",
       "        vertical-align: middle;\n",
       "    }\n",
       "\n",
       "    .dataframe tbody tr th {\n",
       "        vertical-align: top;\n",
       "    }\n",
       "\n",
       "    .dataframe thead th {\n",
       "        text-align: right;\n",
       "    }\n",
       "</style>\n",
       "<table border=\"1\" class=\"dataframe\">\n",
       "  <thead>\n",
       "    <tr style=\"text-align: right;\">\n",
       "      <th></th>\n",
       "      <th>0</th>\n",
       "      <th>1</th>\n",
       "      <th>2</th>\n",
       "      <th>3</th>\n",
       "      <th>4</th>\n",
       "      <th>5</th>\n",
       "      <th>6</th>\n",
       "      <th>7</th>\n",
       "      <th>8</th>\n",
       "      <th>9</th>\n",
       "    </tr>\n",
       "  </thead>\n",
       "  <tbody>\n",
       "    <tr>\n",
       "      <th>0</th>\n",
       "      <td>2</td>\n",
       "      <td>200</td>\n",
       "      <td>5</td>\n",
       "      <td>tournament</td>\n",
       "      <td>-1</td>\n",
       "      <td>adaptive</td>\n",
       "      <td>29.828191</td>\n",
       "      <td>0</td>\n",
       "      <td>0.072291</td>\n",
       "      <td>0.972854</td>\n",
       "    </tr>\n",
       "  </tbody>\n",
       "</table>\n",
       "</div>"
      ],
      "text/plain": [
       "   0    1  2           3   4         5          6  7         8         9\n",
       "0  2  200  5  tournament  -1  adaptive  29.828191  0  0.072291  0.972854"
      ]
     },
     "execution_count": 18,
     "metadata": {},
     "output_type": "execute_result"
    }
   ],
   "source": [
    "aux = grid_ag_manual(model, \n",
    "                   num_solutions_=2,\n",
    "                   data_inputs = X_train_enc,\n",
    "                   data_outputs = y_train_enc,\n",
    "                   num_generations = 200,\n",
    "                   num_parents_mating = 5,\n",
    "                   parent_selection_type_= 'tournament',\n",
    "                   keep_parents_ = -1,\n",
    "                   mutation_type_ = 'adaptive')\n",
    "pd.DataFrame(aux).transpose()"
   ]
  },
  {
   "cell_type": "code",
   "execution_count": 19,
   "id": "a67303c2-b06c-4b20-80e3-3bc9dc7709a9",
   "metadata": {},
   "outputs": [
    {
     "data": {
      "text/plain": [
       "array([[ 1.,  0.,  0., ..., 19., 25., 23.],\n",
       "       [ 1.,  0.,  0., ..., 26., 45.,  8.],\n",
       "       [ 1.,  0.,  0., ..., 44., 41., 52.],\n",
       "       ...,\n",
       "       [ 0.,  0.,  0., ..., 21., 23., 18.],\n",
       "       [ 0.,  0.,  0., ..., 20., 27.,  7.],\n",
       "       [ 1.,  0.,  0., ..., 17., 23., 17.]])"
      ]
     },
     "execution_count": 19,
     "metadata": {},
     "output_type": "execute_result"
    }
   ],
   "source": [
    "X_train_enc"
   ]
  },
  {
   "cell_type": "markdown",
   "id": "3a812d61-4503-4ee9-9371-c67ebdadcd6b",
   "metadata": {
    "tags": []
   },
   "source": [
    "# Diseño de experimentos"
   ]
  },
  {
   "cell_type": "code",
   "execution_count": 20,
   "id": "48b8c08d-718f-4f99-81cd-2e227a2671a6",
   "metadata": {},
   "outputs": [],
   "source": [
    "num_solutions = [1,2,5,10]\n",
    "num_generations = [10,20, 50, 100]\n",
    "num_parents_mating = [5,8]\n",
    "parent_selection_type = ['sss', 'rws', 'rank', 'tournament']\n",
    "keep_parents = [-1,0]\n",
    "mutation_type_= ['swap', 'inversion', 'scramble', 'adaptive']"
   ]
  },
  {
   "cell_type": "code",
   "execution_count": 21,
   "id": "dec91b46-694c-4d03-8f26-a8a6a6b119f1",
   "metadata": {},
   "outputs": [
    {
     "name": "stdout",
     "output_type": "stream",
     "text": [
      "Numero de experimentos\n"
     ]
    },
    {
     "data": {
      "text/plain": [
       "1024"
      ]
     },
     "execution_count": 21,
     "metadata": {},
     "output_type": "execute_result"
    }
   ],
   "source": [
    "print('Numero de experimentos')\n",
    "len(num_solutions) * len(num_generations) * len(num_parents_mating) * len(parent_selection_type) * len(keep_parents) * len(mutation_type_)"
   ]
  },
  {
   "cell_type": "markdown",
   "id": "64d8b088-331d-401a-8c60-edf91a87b7ac",
   "metadata": {},
   "source": [
    "### 6. Corrida de Experimentos"
   ]
  },
  {
   "cell_type": "code",
   "execution_count": 22,
   "id": "ca8ace36-b264-4475-9c37-35b3680b796f",
   "metadata": {},
   "outputs": [],
   "source": [
    "futures = list()"
   ]
  },
  {
   "cell_type": "code",
   "execution_count": 23,
   "id": "fecdf457-256b-4e46-bc35-bdabe829a320",
   "metadata": {},
   "outputs": [],
   "source": [
    "for i in num_solutions:\n",
    "    for j in num_generations:\n",
    "        for k in num_parents_mating: \n",
    "            for l in parent_selection_type:\n",
    "                for m in keep_parents:\n",
    "                    for n in mutation_type_: \n",
    "                        futures.append(pool.apply_async(func=grid_ag_manual,\n",
    "                                                        args= (model, i,X_train_enc,y_train_enc,j,k,l,m,n)))"
   ]
  },
  {
   "cell_type": "code",
   "execution_count": 24,
   "id": "65639e0a-59e1-4656-b67d-e1f13c4f5af8",
   "metadata": {},
   "outputs": [
    {
     "name": "stderr",
     "output_type": "stream",
     "text": [
      "100%|████████████████████████████████████████| 1024/1024 [1:40:48<00:00,  5.91s/it]"
     ]
    },
    {
     "name": "stdout",
     "output_type": "stream",
     "text": [
      "CPU times: user 3h 10s, sys: 16min 47s, total: 3h 16min 57s\n",
      "Wall time: 1h 40min 48s\n"
     ]
    },
    {
     "name": "stderr",
     "output_type": "stream",
     "text": [
      "\n"
     ]
    }
   ],
   "source": [
    "%%time\n",
    "df_results =pd.DataFrame()\n",
    "for future in tqdm(futures):\n",
    "        try: df_results = df_results.append(pd.DataFrame(future.get()).transpose())\n",
    "        except: pass"
   ]
  },
  {
   "cell_type": "code",
   "execution_count": 25,
   "id": "6ec90982-b5bc-40cb-a8d8-42988a619c2f",
   "metadata": {},
   "outputs": [],
   "source": [
    "df_results.columns = ['num_solutions','num_generations', 'num_parents_mating','parent_selection_type',\n",
    "'keep_parents_',\n",
    "'mutation_type',\n",
    "'solution_fitness',\n",
    "'solution_idx',\n",
    "'entriopia',\n",
    "'accuracy']"
   ]
  },
  {
   "cell_type": "code",
   "execution_count": 26,
   "id": "e638aada-f9d4-4ffa-905b-31c54a90e0cb",
   "metadata": {},
   "outputs": [
    {
     "data": {
      "text/html": [
       "<div>\n",
       "<style scoped>\n",
       "    .dataframe tbody tr th:only-of-type {\n",
       "        vertical-align: middle;\n",
       "    }\n",
       "\n",
       "    .dataframe tbody tr th {\n",
       "        vertical-align: top;\n",
       "    }\n",
       "\n",
       "    .dataframe thead th {\n",
       "        text-align: right;\n",
       "    }\n",
       "</style>\n",
       "<table border=\"1\" class=\"dataframe\">\n",
       "  <thead>\n",
       "    <tr style=\"text-align: right;\">\n",
       "      <th></th>\n",
       "      <th>num_solutions</th>\n",
       "      <th>num_generations</th>\n",
       "      <th>num_parents_mating</th>\n",
       "      <th>parent_selection_type</th>\n",
       "      <th>keep_parents_</th>\n",
       "      <th>mutation_type</th>\n",
       "      <th>solution_fitness</th>\n",
       "      <th>solution_idx</th>\n",
       "      <th>entriopia</th>\n",
       "      <th>accuracy</th>\n",
       "    </tr>\n",
       "  </thead>\n",
       "  <tbody>\n",
       "    <tr>\n",
       "      <th>0</th>\n",
       "      <td>1</td>\n",
       "      <td>10</td>\n",
       "      <td>5</td>\n",
       "      <td>sss</td>\n",
       "      <td>-1</td>\n",
       "      <td>swap</td>\n",
       "      <td>29.828191</td>\n",
       "      <td>0</td>\n",
       "      <td>0.072291</td>\n",
       "      <td>0.972854</td>\n",
       "    </tr>\n",
       "    <tr>\n",
       "      <th>0</th>\n",
       "      <td>1</td>\n",
       "      <td>10</td>\n",
       "      <td>5</td>\n",
       "      <td>sss</td>\n",
       "      <td>-1</td>\n",
       "      <td>inversion</td>\n",
       "      <td>29.828191</td>\n",
       "      <td>0</td>\n",
       "      <td>0.072291</td>\n",
       "      <td>0.972854</td>\n",
       "    </tr>\n",
       "    <tr>\n",
       "      <th>0</th>\n",
       "      <td>1</td>\n",
       "      <td>10</td>\n",
       "      <td>5</td>\n",
       "      <td>sss</td>\n",
       "      <td>-1</td>\n",
       "      <td>scramble</td>\n",
       "      <td>29.828191</td>\n",
       "      <td>0</td>\n",
       "      <td>0.072291</td>\n",
       "      <td>0.972854</td>\n",
       "    </tr>\n",
       "    <tr>\n",
       "      <th>0</th>\n",
       "      <td>1</td>\n",
       "      <td>10</td>\n",
       "      <td>5</td>\n",
       "      <td>sss</td>\n",
       "      <td>-1</td>\n",
       "      <td>adaptive</td>\n",
       "      <td>29.828191</td>\n",
       "      <td>0</td>\n",
       "      <td>0.072291</td>\n",
       "      <td>0.972854</td>\n",
       "    </tr>\n",
       "    <tr>\n",
       "      <th>0</th>\n",
       "      <td>1</td>\n",
       "      <td>10</td>\n",
       "      <td>5</td>\n",
       "      <td>sss</td>\n",
       "      <td>0</td>\n",
       "      <td>swap</td>\n",
       "      <td>4.06236</td>\n",
       "      <td>0</td>\n",
       "      <td>1.62826</td>\n",
       "      <td>0.626578</td>\n",
       "    </tr>\n",
       "  </tbody>\n",
       "</table>\n",
       "</div>"
      ],
      "text/plain": [
       "  num_solutions num_generations num_parents_mating parent_selection_type  \\\n",
       "0             1              10                  5                   sss   \n",
       "0             1              10                  5                   sss   \n",
       "0             1              10                  5                   sss   \n",
       "0             1              10                  5                   sss   \n",
       "0             1              10                  5                   sss   \n",
       "\n",
       "  keep_parents_ mutation_type solution_fitness solution_idx entriopia  \\\n",
       "0            -1          swap        29.828191            0  0.072291   \n",
       "0            -1     inversion        29.828191            0  0.072291   \n",
       "0            -1      scramble        29.828191            0  0.072291   \n",
       "0            -1      adaptive        29.828191            0  0.072291   \n",
       "0             0          swap          4.06236            0   1.62826   \n",
       "\n",
       "   accuracy  \n",
       "0  0.972854  \n",
       "0  0.972854  \n",
       "0  0.972854  \n",
       "0  0.972854  \n",
       "0  0.626578  "
      ]
     },
     "execution_count": 26,
     "metadata": {},
     "output_type": "execute_result"
    }
   ],
   "source": [
    "df_results.head()"
   ]
  },
  {
   "cell_type": "code",
   "execution_count": 27,
   "id": "6643c7bc-78a7-4b05-98c1-ac9c16f29f3e",
   "metadata": {},
   "outputs": [],
   "source": [
    "df_results.accuracy = pd.to_numeric(df_results.accuracy)"
   ]
  },
  {
   "cell_type": "markdown",
   "id": "21332af7-846a-4f35-881e-ac84ee97988c",
   "metadata": {},
   "source": [
    "### 7. Analisis de Variables"
   ]
  },
  {
   "cell_type": "code",
   "execution_count": 28,
   "id": "3b236eeb-642d-4275-8b72-b4f19d3f97d4",
   "metadata": {},
   "outputs": [
    {
     "data": {
      "text/plain": [
       "Text(0.5, 1.0, 'Tipo de selección vs Accuracy')"
      ]
     },
     "execution_count": 28,
     "metadata": {},
     "output_type": "execute_result"
    },
    {
     "data": {
      "image/png": "[encoded data removed]",
      "text/plain": [
       "<Figure size 1080x360 with 2 Axes>"
      ]
     },
     "metadata": {
      "needs_background": "light"
     },
     "output_type": "display_data"
    }
   ],
   "source": [
    "fig, ax = plt.subplots(ncols=2, figsize=(15, 5))\n",
    "sns.boxplot(data=df_results, x='parent_selection_type', y='solution_fitness', ax=ax[0]).set_title('Tipo de selección vs Fitness')\n",
    "sns.boxplot(data=df_results, x='parent_selection_type', y='accuracy', ax=ax[1]).set_title('Tipo de selección vs Accuracy')"
   ]
  },
  {
   "cell_type": "code",
   "execution_count": 29,
   "id": "8d94d7f7-3101-4cac-a1e6-e0e6bf369574",
   "metadata": {},
   "outputs": [
    {
     "name": "stdout",
     "output_type": "stream",
     "text": [
      "Analisis ANOVA\n"
     ]
    },
    {
     "data": {
      "text/html": [
       "<div>\n",
       "<style scoped>\n",
       "    .dataframe tbody tr th:only-of-type {\n",
       "        vertical-align: middle;\n",
       "    }\n",
       "\n",
       "    .dataframe tbody tr th {\n",
       "        vertical-align: top;\n",
       "    }\n",
       "\n",
       "    .dataframe thead th {\n",
       "        text-align: right;\n",
       "    }\n",
       "</style>\n",
       "<table border=\"1\" class=\"dataframe\">\n",
       "  <thead>\n",
       "    <tr style=\"text-align: right;\">\n",
       "      <th></th>\n",
       "      <th>group1</th>\n",
       "      <th>group2</th>\n",
       "      <th>Diff</th>\n",
       "      <th>Lower</th>\n",
       "      <th>Upper</th>\n",
       "      <th>q-value</th>\n",
       "      <th>p-value</th>\n",
       "    </tr>\n",
       "  </thead>\n",
       "  <tbody>\n",
       "    <tr>\n",
       "      <th>0</th>\n",
       "      <td>sss</td>\n",
       "      <td>rws</td>\n",
       "      <td>0.009547</td>\n",
       "      <td>-0.015075</td>\n",
       "      <td>0.034170</td>\n",
       "      <td>1.411095</td>\n",
       "      <td>0.725217</td>\n",
       "    </tr>\n",
       "    <tr>\n",
       "      <th>1</th>\n",
       "      <td>sss</td>\n",
       "      <td>rank</td>\n",
       "      <td>0.006959</td>\n",
       "      <td>-0.017663</td>\n",
       "      <td>0.031582</td>\n",
       "      <td>1.028570</td>\n",
       "      <td>0.876970</td>\n",
       "    </tr>\n",
       "    <tr>\n",
       "      <th>2</th>\n",
       "      <td>sss</td>\n",
       "      <td>tournament</td>\n",
       "      <td>0.010276</td>\n",
       "      <td>-0.014346</td>\n",
       "      <td>0.034899</td>\n",
       "      <td>1.518799</td>\n",
       "      <td>0.682489</td>\n",
       "    </tr>\n",
       "    <tr>\n",
       "      <th>3</th>\n",
       "      <td>rws</td>\n",
       "      <td>rank</td>\n",
       "      <td>0.002588</td>\n",
       "      <td>-0.022034</td>\n",
       "      <td>0.027211</td>\n",
       "      <td>0.382525</td>\n",
       "      <td>0.900000</td>\n",
       "    </tr>\n",
       "    <tr>\n",
       "      <th>4</th>\n",
       "      <td>rws</td>\n",
       "      <td>tournament</td>\n",
       "      <td>0.000729</td>\n",
       "      <td>-0.023894</td>\n",
       "      <td>0.025351</td>\n",
       "      <td>0.107705</td>\n",
       "      <td>0.900000</td>\n",
       "    </tr>\n",
       "    <tr>\n",
       "      <th>5</th>\n",
       "      <td>rank</td>\n",
       "      <td>tournament</td>\n",
       "      <td>0.003317</td>\n",
       "      <td>-0.021306</td>\n",
       "      <td>0.027939</td>\n",
       "      <td>0.490229</td>\n",
       "      <td>0.900000</td>\n",
       "    </tr>\n",
       "  </tbody>\n",
       "</table>\n",
       "</div>"
      ],
      "text/plain": [
       "  group1      group2      Diff     Lower     Upper   q-value   p-value\n",
       "0    sss         rws  0.009547 -0.015075  0.034170  1.411095  0.725217\n",
       "1    sss        rank  0.006959 -0.017663  0.031582  1.028570  0.876970\n",
       "2    sss  tournament  0.010276 -0.014346  0.034899  1.518799  0.682489\n",
       "3    rws        rank  0.002588 -0.022034  0.027211  0.382525  0.900000\n",
       "4    rws  tournament  0.000729 -0.023894  0.025351  0.107705  0.900000\n",
       "5   rank  tournament  0.003317 -0.021306  0.027939  0.490229  0.900000"
      ]
     },
     "execution_count": 29,
     "metadata": {},
     "output_type": "execute_result"
    }
   ],
   "source": [
    "print('Analisis ANOVA')\n",
    "res = stat()\n",
    "res.tukey_hsd(df=df_results,\n",
    "              res_var='accuracy', xfac_var='parent_selection_type', anova_model='accuracy ~ C(parent_selection_type)')\n",
    "res.tukey_summary"
   ]
  },
  {
   "cell_type": "code",
   "execution_count": 30,
   "id": "2af50afc-872e-4ec6-87b2-d0c8c7addd3a",
   "metadata": {},
   "outputs": [
    {
     "data": {
      "text/plain": [
       "Text(0.5, 1.0, 'Tipo de mutacion vs Accuracy')"
      ]
     },
     "execution_count": 30,
     "metadata": {},
     "output_type": "execute_result"
    },
    {
     "data": {
      "image/png": "[encoded data removed]",
      "text/plain": [
       "<Figure size 1080x360 with 2 Axes>"
      ]
     },
     "metadata": {
      "needs_background": "light"
     },
     "output_type": "display_data"
    }
   ],
   "source": [
    "fig, ax = plt.subplots(ncols=2, figsize=(15, 5))\n",
    "sns.boxplot(data=df_results, x='mutation_type', y='solution_fitness', ax=ax[0]).set_title('Tipo de mutacion vs Fitness')\n",
    "sns.boxplot(data=df_results, x='mutation_type', y='accuracy', ax=ax[1]).set_title('Tipo de mutacion vs Accuracy')"
   ]
  },
  {
   "cell_type": "code",
   "execution_count": 31,
   "id": "4c39dc91-2511-4c64-afcf-10915e2a1ee9",
   "metadata": {},
   "outputs": [
    {
     "name": "stdout",
     "output_type": "stream",
     "text": [
      "Analisis ANOVA\n"
     ]
    },
    {
     "data": {
      "text/html": [
       "<div>\n",
       "<style scoped>\n",
       "    .dataframe tbody tr th:only-of-type {\n",
       "        vertical-align: middle;\n",
       "    }\n",
       "\n",
       "    .dataframe tbody tr th {\n",
       "        vertical-align: top;\n",
       "    }\n",
       "\n",
       "    .dataframe thead th {\n",
       "        text-align: right;\n",
       "    }\n",
       "</style>\n",
       "<table border=\"1\" class=\"dataframe\">\n",
       "  <thead>\n",
       "    <tr style=\"text-align: right;\">\n",
       "      <th></th>\n",
       "      <th>group1</th>\n",
       "      <th>group2</th>\n",
       "      <th>Diff</th>\n",
       "      <th>Lower</th>\n",
       "      <th>Upper</th>\n",
       "      <th>q-value</th>\n",
       "      <th>p-value</th>\n",
       "    </tr>\n",
       "  </thead>\n",
       "  <tbody>\n",
       "    <tr>\n",
       "      <th>0</th>\n",
       "      <td>swap</td>\n",
       "      <td>inversion</td>\n",
       "      <td>0.005080</td>\n",
       "      <td>-0.019553</td>\n",
       "      <td>0.029713</td>\n",
       "      <td>0.750523</td>\n",
       "      <td>0.900000</td>\n",
       "    </tr>\n",
       "    <tr>\n",
       "      <th>1</th>\n",
       "      <td>swap</td>\n",
       "      <td>scramble</td>\n",
       "      <td>0.001974</td>\n",
       "      <td>-0.022659</td>\n",
       "      <td>0.026607</td>\n",
       "      <td>0.291647</td>\n",
       "      <td>0.900000</td>\n",
       "    </tr>\n",
       "    <tr>\n",
       "      <th>2</th>\n",
       "      <td>swap</td>\n",
       "      <td>adaptive</td>\n",
       "      <td>0.001904</td>\n",
       "      <td>-0.022729</td>\n",
       "      <td>0.026537</td>\n",
       "      <td>0.281264</td>\n",
       "      <td>0.900000</td>\n",
       "    </tr>\n",
       "    <tr>\n",
       "      <th>3</th>\n",
       "      <td>inversion</td>\n",
       "      <td>scramble</td>\n",
       "      <td>0.007054</td>\n",
       "      <td>-0.017579</td>\n",
       "      <td>0.031687</td>\n",
       "      <td>1.042170</td>\n",
       "      <td>0.871575</td>\n",
       "    </tr>\n",
       "    <tr>\n",
       "      <th>4</th>\n",
       "      <td>inversion</td>\n",
       "      <td>adaptive</td>\n",
       "      <td>0.003176</td>\n",
       "      <td>-0.021456</td>\n",
       "      <td>0.027809</td>\n",
       "      <td>0.469259</td>\n",
       "      <td>0.900000</td>\n",
       "    </tr>\n",
       "    <tr>\n",
       "      <th>5</th>\n",
       "      <td>scramble</td>\n",
       "      <td>adaptive</td>\n",
       "      <td>0.003878</td>\n",
       "      <td>-0.020755</td>\n",
       "      <td>0.028511</td>\n",
       "      <td>0.572911</td>\n",
       "      <td>0.900000</td>\n",
       "    </tr>\n",
       "  </tbody>\n",
       "</table>\n",
       "</div>"
      ],
      "text/plain": [
       "      group1     group2      Diff     Lower     Upper   q-value   p-value\n",
       "0       swap  inversion  0.005080 -0.019553  0.029713  0.750523  0.900000\n",
       "1       swap   scramble  0.001974 -0.022659  0.026607  0.291647  0.900000\n",
       "2       swap   adaptive  0.001904 -0.022729  0.026537  0.281264  0.900000\n",
       "3  inversion   scramble  0.007054 -0.017579  0.031687  1.042170  0.871575\n",
       "4  inversion   adaptive  0.003176 -0.021456  0.027809  0.469259  0.900000\n",
       "5   scramble   adaptive  0.003878 -0.020755  0.028511  0.572911  0.900000"
      ]
     },
     "execution_count": 31,
     "metadata": {},
     "output_type": "execute_result"
    }
   ],
   "source": [
    "print('Analisis ANOVA')\n",
    "res = stat()\n",
    "res.tukey_hsd(df=df_results,\n",
    "              res_var='accuracy', xfac_var='mutation_type', anova_model='accuracy ~ C(mutation_type)')\n",
    "res.tukey_summary"
   ]
  },
  {
   "cell_type": "code",
   "execution_count": 32,
   "id": "7365ed27-2d21-4922-8fc9-c0cfaef5d111",
   "metadata": {},
   "outputs": [
    {
     "data": {
      "text/plain": [
       "Text(0.5, 1.0, 'Número Generaciones vs Accuracy')"
      ]
     },
     "execution_count": 32,
     "metadata": {},
     "output_type": "execute_result"
    },
    {
     "data": {
      "image/png": "[encoded data removed]",
      "text/plain": [
       "<Figure size 1080x360 with 2 Axes>"
      ]
     },
     "metadata": {
      "needs_background": "light"
     },
     "output_type": "display_data"
    }
   ],
   "source": [
    "fig, ax = plt.subplots(ncols=2, figsize=(15, 5))\n",
    "sns.boxplot(data=df_results, x='num_generations', y='solution_fitness', ax=ax[0]).set_title('Número Generaciones vs Fitness')\n",
    "sns.boxplot(data=df_results, x='num_generations', y='accuracy', ax=ax[1]).set_title('Número Generaciones vs Accuracy')"
   ]
  },
  {
   "cell_type": "code",
   "execution_count": 33,
   "id": "a67270b0-5305-4b44-a58e-22fa9bbdcfdf",
   "metadata": {},
   "outputs": [
    {
     "name": "stdout",
     "output_type": "stream",
     "text": [
      "Analisis ANOVA\n"
     ]
    },
    {
     "data": {
      "text/html": [
       "<div>\n",
       "<style scoped>\n",
       "    .dataframe tbody tr th:only-of-type {\n",
       "        vertical-align: middle;\n",
       "    }\n",
       "\n",
       "    .dataframe tbody tr th {\n",
       "        vertical-align: top;\n",
       "    }\n",
       "\n",
       "    .dataframe thead th {\n",
       "        text-align: right;\n",
       "    }\n",
       "</style>\n",
       "<table border=\"1\" class=\"dataframe\">\n",
       "  <thead>\n",
       "    <tr style=\"text-align: right;\">\n",
       "      <th></th>\n",
       "      <th>group1</th>\n",
       "      <th>group2</th>\n",
       "      <th>Diff</th>\n",
       "      <th>Lower</th>\n",
       "      <th>Upper</th>\n",
       "      <th>q-value</th>\n",
       "      <th>p-value</th>\n",
       "    </tr>\n",
       "  </thead>\n",
       "  <tbody>\n",
       "    <tr>\n",
       "      <th>0</th>\n",
       "      <td>10</td>\n",
       "      <td>20</td>\n",
       "      <td>0.041855</td>\n",
       "      <td>0.018136</td>\n",
       "      <td>0.065575</td>\n",
       "      <td>6.421676</td>\n",
       "      <td>0.001000</td>\n",
       "    </tr>\n",
       "    <tr>\n",
       "      <th>1</th>\n",
       "      <td>10</td>\n",
       "      <td>50</td>\n",
       "      <td>0.065717</td>\n",
       "      <td>0.041997</td>\n",
       "      <td>0.089437</td>\n",
       "      <td>10.082666</td>\n",
       "      <td>0.001000</td>\n",
       "    </tr>\n",
       "    <tr>\n",
       "      <th>2</th>\n",
       "      <td>10</td>\n",
       "      <td>100</td>\n",
       "      <td>0.076097</td>\n",
       "      <td>0.052377</td>\n",
       "      <td>0.099816</td>\n",
       "      <td>11.675173</td>\n",
       "      <td>0.001000</td>\n",
       "    </tr>\n",
       "    <tr>\n",
       "      <th>3</th>\n",
       "      <td>20</td>\n",
       "      <td>50</td>\n",
       "      <td>0.023862</td>\n",
       "      <td>0.000142</td>\n",
       "      <td>0.047581</td>\n",
       "      <td>3.660989</td>\n",
       "      <td>0.048008</td>\n",
       "    </tr>\n",
       "    <tr>\n",
       "      <th>4</th>\n",
       "      <td>20</td>\n",
       "      <td>100</td>\n",
       "      <td>0.034241</td>\n",
       "      <td>0.010522</td>\n",
       "      <td>0.057961</td>\n",
       "      <td>5.253497</td>\n",
       "      <td>0.001225</td>\n",
       "    </tr>\n",
       "    <tr>\n",
       "      <th>5</th>\n",
       "      <td>50</td>\n",
       "      <td>100</td>\n",
       "      <td>0.010380</td>\n",
       "      <td>-0.013340</td>\n",
       "      <td>0.034099</td>\n",
       "      <td>1.592508</td>\n",
       "      <td>0.653250</td>\n",
       "    </tr>\n",
       "  </tbody>\n",
       "</table>\n",
       "</div>"
      ],
      "text/plain": [
       "   group1  group2      Diff     Lower     Upper    q-value   p-value\n",
       "0      10      20  0.041855  0.018136  0.065575   6.421676  0.001000\n",
       "1      10      50  0.065717  0.041997  0.089437  10.082666  0.001000\n",
       "2      10     100  0.076097  0.052377  0.099816  11.675173  0.001000\n",
       "3      20      50  0.023862  0.000142  0.047581   3.660989  0.048008\n",
       "4      20     100  0.034241  0.010522  0.057961   5.253497  0.001225\n",
       "5      50     100  0.010380 -0.013340  0.034099   1.592508  0.653250"
      ]
     },
     "execution_count": 33,
     "metadata": {},
     "output_type": "execute_result"
    }
   ],
   "source": [
    "print('Analisis ANOVA')\n",
    "res = stat()\n",
    "res.tukey_hsd(df=df_results,\n",
    "              res_var='accuracy', xfac_var='num_generations', anova_model='accuracy ~ C(num_generations)')\n",
    "res.tukey_summary"
   ]
  },
  {
   "cell_type": "code",
   "execution_count": 45,
   "id": "1e579c1a-0465-4f81-a27a-8f31b28f79a0",
   "metadata": {},
   "outputs": [
    {
     "data": {
      "text/html": [
       "<div>\n",
       "<style scoped>\n",
       "    .dataframe tbody tr th:only-of-type {\n",
       "        vertical-align: middle;\n",
       "    }\n",
       "\n",
       "    .dataframe tbody tr th {\n",
       "        vertical-align: top;\n",
       "    }\n",
       "\n",
       "    .dataframe thead th {\n",
       "        text-align: right;\n",
       "    }\n",
       "</style>\n",
       "<table border=\"1\" class=\"dataframe\">\n",
       "  <thead>\n",
       "    <tr style=\"text-align: right;\">\n",
       "      <th></th>\n",
       "      <th>num_solutions</th>\n",
       "      <th>num_generations</th>\n",
       "      <th>num_parents_mating</th>\n",
       "      <th>parent_selection_type</th>\n",
       "      <th>keep_parents_</th>\n",
       "      <th>mutation_type</th>\n",
       "      <th>solution_fitness</th>\n",
       "      <th>solution_idx</th>\n",
       "      <th>entriopia</th>\n",
       "      <th>accuracy</th>\n",
       "    </tr>\n",
       "  </thead>\n",
       "  <tbody>\n",
       "    <tr>\n",
       "      <th>0</th>\n",
       "      <td>1</td>\n",
       "      <td>10</td>\n",
       "      <td>5</td>\n",
       "      <td>sss</td>\n",
       "      <td>-1</td>\n",
       "      <td>swap</td>\n",
       "      <td>29.828191</td>\n",
       "      <td>0</td>\n",
       "      <td>0.072291</td>\n",
       "      <td>0.972854</td>\n",
       "    </tr>\n",
       "    <tr>\n",
       "      <th>0</th>\n",
       "      <td>1</td>\n",
       "      <td>10</td>\n",
       "      <td>5</td>\n",
       "      <td>sss</td>\n",
       "      <td>-1</td>\n",
       "      <td>scramble</td>\n",
       "      <td>29.828191</td>\n",
       "      <td>0</td>\n",
       "      <td>0.072291</td>\n",
       "      <td>0.972854</td>\n",
       "    </tr>\n",
       "    <tr>\n",
       "      <th>0</th>\n",
       "      <td>1</td>\n",
       "      <td>10</td>\n",
       "      <td>5</td>\n",
       "      <td>sss</td>\n",
       "      <td>-1</td>\n",
       "      <td>adaptive</td>\n",
       "      <td>29.828191</td>\n",
       "      <td>0</td>\n",
       "      <td>0.072291</td>\n",
       "      <td>0.972854</td>\n",
       "    </tr>\n",
       "    <tr>\n",
       "      <th>0</th>\n",
       "      <td>1</td>\n",
       "      <td>10</td>\n",
       "      <td>5</td>\n",
       "      <td>sss</td>\n",
       "      <td>-1</td>\n",
       "      <td>inversion</td>\n",
       "      <td>29.828191</td>\n",
       "      <td>0</td>\n",
       "      <td>0.072291</td>\n",
       "      <td>0.972854</td>\n",
       "    </tr>\n",
       "    <tr>\n",
       "      <th>0</th>\n",
       "      <td>1</td>\n",
       "      <td>10</td>\n",
       "      <td>5</td>\n",
       "      <td>rws</td>\n",
       "      <td>-1</td>\n",
       "      <td>swap</td>\n",
       "      <td>29.828191</td>\n",
       "      <td>0</td>\n",
       "      <td>0.072291</td>\n",
       "      <td>0.972854</td>\n",
       "    </tr>\n",
       "    <tr>\n",
       "      <th>0</th>\n",
       "      <td>1</td>\n",
       "      <td>10</td>\n",
       "      <td>5</td>\n",
       "      <td>rws</td>\n",
       "      <td>-1</td>\n",
       "      <td>inversion</td>\n",
       "      <td>29.828191</td>\n",
       "      <td>0</td>\n",
       "      <td>0.072291</td>\n",
       "      <td>0.972854</td>\n",
       "    </tr>\n",
       "    <tr>\n",
       "      <th>0</th>\n",
       "      <td>1</td>\n",
       "      <td>10</td>\n",
       "      <td>5</td>\n",
       "      <td>rws</td>\n",
       "      <td>-1</td>\n",
       "      <td>scramble</td>\n",
       "      <td>29.828191</td>\n",
       "      <td>0</td>\n",
       "      <td>0.072291</td>\n",
       "      <td>0.972854</td>\n",
       "    </tr>\n",
       "    <tr>\n",
       "      <th>0</th>\n",
       "      <td>1</td>\n",
       "      <td>10</td>\n",
       "      <td>5</td>\n",
       "      <td>rws</td>\n",
       "      <td>-1</td>\n",
       "      <td>adaptive</td>\n",
       "      <td>29.828191</td>\n",
       "      <td>0</td>\n",
       "      <td>0.376263</td>\n",
       "      <td>0.833649</td>\n",
       "    </tr>\n",
       "    <tr>\n",
       "      <th>0</th>\n",
       "      <td>1</td>\n",
       "      <td>10</td>\n",
       "      <td>5</td>\n",
       "      <td>sss</td>\n",
       "      <td>0</td>\n",
       "      <td>adaptive</td>\n",
       "      <td>3.334566</td>\n",
       "      <td>0</td>\n",
       "      <td>0.637234</td>\n",
       "      <td>0.830177</td>\n",
       "    </tr>\n",
       "    <tr>\n",
       "      <th>0</th>\n",
       "      <td>1</td>\n",
       "      <td>10</td>\n",
       "      <td>5</td>\n",
       "      <td>rank</td>\n",
       "      <td>0</td>\n",
       "      <td>inversion</td>\n",
       "      <td>2.979525</td>\n",
       "      <td>0</td>\n",
       "      <td>0.742082</td>\n",
       "      <td>0.773359</td>\n",
       "    </tr>\n",
       "  </tbody>\n",
       "</table>\n",
       "</div>"
      ],
      "text/plain": [
       "  num_solutions num_generations num_parents_mating parent_selection_type  \\\n",
       "0             1              10                  5                   sss   \n",
       "0             1              10                  5                   sss   \n",
       "0             1              10                  5                   sss   \n",
       "0             1              10                  5                   sss   \n",
       "0             1              10                  5                   rws   \n",
       "0             1              10                  5                   rws   \n",
       "0             1              10                  5                   rws   \n",
       "0             1              10                  5                   rws   \n",
       "0             1              10                  5                   sss   \n",
       "0             1              10                  5                  rank   \n",
       "\n",
       "  keep_parents_ mutation_type solution_fitness solution_idx entriopia  \\\n",
       "0            -1          swap        29.828191            0  0.072291   \n",
       "0            -1      scramble        29.828191            0  0.072291   \n",
       "0            -1      adaptive        29.828191            0  0.072291   \n",
       "0            -1     inversion        29.828191            0  0.072291   \n",
       "0            -1          swap        29.828191            0  0.072291   \n",
       "0            -1     inversion        29.828191            0  0.072291   \n",
       "0            -1      scramble        29.828191            0  0.072291   \n",
       "0            -1      adaptive        29.828191            0  0.376263   \n",
       "0             0      adaptive         3.334566            0  0.637234   \n",
       "0             0     inversion         2.979525            0  0.742082   \n",
       "\n",
       "   accuracy  \n",
       "0  0.972854  \n",
       "0  0.972854  \n",
       "0  0.972854  \n",
       "0  0.972854  \n",
       "0  0.972854  \n",
       "0  0.972854  \n",
       "0  0.972854  \n",
       "0  0.833649  \n",
       "0  0.830177  \n",
       "0  0.773359  "
      ]
     },
     "execution_count": 45,
     "metadata": {},
     "output_type": "execute_result"
    }
   ],
   "source": [
    "df_results.sort_values('accuracy', ascending=False).head(10)"
   ]
  },
  {
   "cell_type": "markdown",
   "id": "996a98f6-d4f0-4c2f-afac-1bae896be461",
   "metadata": {},
   "source": [
    "### 8. Mejor modelo basado en Accuracy"
   ]
  },
  {
   "cell_type": "code",
   "execution_count": 42,
   "id": "31174c61-0a7a-4fd1-891c-623308beab0e",
   "metadata": {},
   "outputs": [],
   "source": [
    "best_parameters = df_results.sort_values('accuracy', ascending=False).head(1)"
   ]
  },
  {
   "cell_type": "code",
   "execution_count": 43,
   "id": "64b6e1df-7aad-40b0-912b-d16edb4c0859",
   "metadata": {},
   "outputs": [],
   "source": [
    "best_parameters = best_parameters.loc[0]"
   ]
  },
  {
   "cell_type": "code",
   "execution_count": 44,
   "id": "6e530e27-032a-4674-af4f-bf7229e0cd5d",
   "metadata": {},
   "outputs": [
    {
     "data": {
      "text/plain": [
       "num_solutions                    1\n",
       "num_generations                 10\n",
       "num_parents_mating               5\n",
       "parent_selection_type          sss\n",
       "keep_parents_                   -1\n",
       "mutation_type                 swap\n",
       "solution_fitness         29.828191\n",
       "solution_idx                     0\n",
       "entriopia                 0.072291\n",
       "accuracy                  0.972854\n",
       "Name: 0, dtype: object"
      ]
     },
     "execution_count": 44,
     "metadata": {},
     "output_type": "execute_result"
    }
   ],
   "source": [
    "best_parameters"
   ]
  },
  {
   "cell_type": "code",
   "execution_count": 37,
   "id": "5ca4d99d-bad0-4b92-bbdd-c0b7c3d92636",
   "metadata": {},
   "outputs": [],
   "source": [
    "best_model = grid_ag_manual_model(model, \n",
    "                   num_solutions_=best_parameters.num_solutions,\n",
    "                   data_inputs = X_train_enc,\n",
    "                   data_outputs = y_train_enc,\n",
    "                   num_generations = best_parameters.num_generations,\n",
    "                   num_parents_mating = best_parameters.num_parents_mating,\n",
    "                   parent_selection_type_= best_parameters.parent_selection_type,\n",
    "                   keep_parents_ = best_parameters.keep_parents_,\n",
    "                   mutation_type_ = best_parameters.mutation_type)\n"
   ]
  },
  {
   "cell_type": "code",
   "execution_count": 39,
   "id": "9f48008a-347a-4cf2-99dd-6d954d7ba631",
   "metadata": {},
   "outputs": [
    {
     "data": {
      "image/png": "[encoded data removed]",
      "text/plain": [
       "<Figure size 432x288 with 1 Axes>"
      ]
     },
     "metadata": {
      "needs_background": "light"
     },
     "output_type": "display_data"
    },
    {
     "data": {
      "image/png": "[encoded data removed]",
      "text/plain": [
       "<Figure size 432x288 with 1 Axes>"
      ]
     },
     "execution_count": 39,
     "metadata": {},
     "output_type": "execute_result"
    }
   ],
   "source": [
    "best_model.plot_result()"
   ]
  },
  {
   "cell_type": "code",
   "execution_count": 41,
   "id": "205dcc6c-98c6-49dc-9bdb-b66f02c1729f",
   "metadata": {},
   "outputs": [
    {
     "name": "stdout",
     "output_type": "stream",
     "text": [
      "Fitness value of the best solution = 3.098357501981001\n",
      "Index of the best solution : 0\n",
      "Predictions : \n",
      " [[9.2909024e-05 1.1828214e-02 2.4886455e-09]\n",
      " [9.2491042e-05 1.1964589e-02 2.4735824e-09]\n",
      " [1.0711870e-04 8.6087883e-03 3.0750136e-09]\n",
      " ...\n",
      " [2.1153688e-04 2.3258328e-03 8.3493523e-09]\n",
      " [1.3700128e-04 5.1066279e-03 4.4470800e-09]\n",
      " [1.7703474e-03 4.9885809e-03 7.3577347e-08]]\n",
      "Categorical Crossentropy :  5.051428\n",
      "tf.Tensor(0.5116793, shape=(), dtype=float32)\n",
      "Accuracy :  0.5116793\n"
     ]
    }
   ],
   "source": [
    "# Returning the details of the best solution.\n",
    "solution, solution_fitness, solution_idx = best_model.best_solution()\n",
    "\n",
    "print(\"Fitness value of the best solution = {solution_fitness}\".format(solution_fitness=solution_fitness))\n",
    "print(\"Index of the best solution : {solution_idx}\".format(solution_idx=solution_idx))\n",
    "\n",
    "# Fetch the parameters of the best solution.\n",
    "best_solution_weights = pygad.kerasga.model_weights_as_matrix(model=model,\n",
    "                                                          weights_vector=solution)\n",
    "\n",
    "model.set_weights(best_solution_weights)\n",
    "predictions = model.predict(data_inputs)\n",
    "print(\"Predictions : \\n\", predictions)\n",
    "\n",
    "# Calculate the categorical crossentropy for the trained model.\n",
    "cce = tensorflow.keras.losses.CategoricalCrossentropy()\n",
    "print(\"Categorical Crossentropy : \", cce(data_outputs, predictions).numpy())\n",
    "\n",
    "# Calculate the classification accuracy for the trained model.\n",
    "ca = tensorflow.keras.metrics.CategoricalAccuracy()\n",
    "ca.update_state(data_outputs, predictions)\n",
    "print(ca.result())\n",
    "accuracy = ca.result().numpy()\n",
    "print(\"Accuracy : \", accuracy)\n"
   ]
  },
  {
   "cell_type": "code",
   "execution_count": 46,
   "id": "69eb4331-255e-4b50-94f7-3ce3e29b91c6",
   "metadata": {},
   "outputs": [
    {
     "name": "stdout",
     "output_type": "stream",
     "text": [
      "Predictions : \n",
      " [[9.5487107e-05 1.1163592e-02 2.5935583e-09]\n",
      " [1.8779516e-05 6.2212980e-01 3.0678532e-10]\n",
      " [9.5481824e-05 1.1164844e-02 2.5933455e-09]\n",
      " ...\n",
      " [2.8717222e-05 9.7547865e-01 3.4808448e-10]\n",
      " [8.9996254e-05 1.2821227e-02 2.3829307e-09]\n",
      " [9.1847796e-05 1.2138575e-02 2.4470970e-09]]\n",
      "Categorical Crossentropy :  4.938615\n",
      "tf.Tensor(0.50810015, shape=(), dtype=float32)\n",
      "Accuracy :  0.50810015\n"
     ]
    }
   ],
   "source": [
    "# validando test\n",
    "predictions = model.predict(X_test_enc)\n",
    "print(\"Predictions : \\n\", predictions)\n",
    "\n",
    "# Calculate the categorical crossentropy for the trained model.\n",
    "cce = tensorflow.keras.losses.CategoricalCrossentropy()\n",
    "print(\"Categorical Crossentropy : \", cce(y_test_enc, predictions).numpy())\n",
    "\n",
    "# Calculate the classification accuracy for the trained model.\n",
    "ca = tensorflow.keras.metrics.CategoricalAccuracy()\n",
    "ca.update_state(y_test_enc, predictions)\n",
    "print(ca.result())\n",
    "accuracy = ca.result().numpy()\n",
    "print(\"Accuracy : \", accuracy)"
   ]
  },
  {
   "cell_type": "code",
   "execution_count": null,
   "id": "0220e660-9962-40e5-9076-c4c7b7212da1",
   "metadata": {},
   "outputs": [],
   "source": []
  }
 ],
 "metadata": {
  "kernelspec": {
   "display_name": "Python 3 (ipykernel)",
   "language": "python",
   "name": "python3"
  },
  "language_info": {
   "codemirror_mode": {
    "name": "ipython",
    "version": 3
   },
   "file_extension": ".py",
   "mimetype": "text/x-python",
   "name": "python",
   "nbconvert_exporter": "python",
   "pygments_lexer": "ipython3",
   "version": "3.9.12"
  }
 },
 "nbformat": 4,
 "nbformat_minor": 5
}
