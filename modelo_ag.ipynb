{
 "cells": [
  {
   "cell_type": "markdown",
   "id": "99c84504-13c0-46ea-b5ab-d973ad5d48f8",
   "metadata": {},
   "source": [
    "# Librerias"
   ]
  },
  {
   "cell_type": "code",
   "execution_count": 421,
   "id": "f199d534-4ae5-49e1-938a-4e1448e23c00",
   "metadata": {},
   "outputs": [],
   "source": [
    "import pandas as pd\n",
    "import numpy as np\n",
    "import sklearn\n",
    "\n",
    "from sklearn.model_selection import train_test_split\n",
    "from sklearn.preprocessing import OrdinalEncoder\n",
    "from sklearn.preprocessing import LabelEncoder\n",
    "from sklearn.model_selection import GridSearchCV \n",
    "from sklearn.metrics import confusion_matrix\n",
    "from keras.utils.vis_utils import plot_model\n",
    "\n",
    "from keras.models import Sequential\n",
    "from keras.layers import Dense\n",
    "from keras.wrappers.scikit_learn import KerasClassifier\n",
    "\n",
    "from keras.utils import np_utils\n",
    "\n",
    "import seaborn as sns\n",
    "import matplotlib.pyplot as plt\n",
    "import os\n",
    "\n",
    "import pygad.kerasga\n",
    "\n",
    "#Para Paralelizar\n",
    "from tqdm import tqdm\n",
    "from multiprocessing.dummy import Pool\n",
    "\n",
    "import warnings\n",
    "#PARA ANOVA 1-1\n",
    "from bioinfokit.analys import stat\n",
    "\n",
    "warnings.filterwarnings('ignore')"
   ]
  },
  {
   "cell_type": "code",
   "execution_count": 316,
   "id": "193446d4-ca6e-4982-a65e-e499c4986cdb",
   "metadata": {},
   "outputs": [],
   "source": [
    "pool = Pool(16)"
   ]
  },
  {
   "cell_type": "markdown",
   "id": "28d6492f-fc8c-41c7-bd7a-917a6ee5e9ee",
   "metadata": {},
   "source": [
    "# Variables GLobales"
   ]
  },
  {
   "cell_type": "code",
   "execution_count": 43,
   "id": "b1fcdbfb-eab8-4619-9d95-14bac6493052",
   "metadata": {},
   "outputs": [],
   "source": [
    "os.chdir(r\"/home/jest/Documents/personal/sistemas inteligentes/proyecto/segunda entrega\")\n",
    "path_name_model = 'dataset/datos_para_modelo.csv'"
   ]
  },
  {
   "cell_type": "markdown",
   "id": "ea643d29-8590-42b5-9286-9afba40ea778",
   "metadata": {},
   "source": [
    "### 1. Carga Dataset"
   ]
  },
  {
   "cell_type": "code",
   "execution_count": 44,
   "id": "b0a39acf-2dcb-4758-9d6b-9b17eadd7931",
   "metadata": {},
   "outputs": [],
   "source": [
    "df = pd.read_csv(path_name_model, sep='|')"
   ]
  },
  {
   "cell_type": "markdown",
   "id": "a61c6584-2bf7-42de-a1c4-88c3cee14276",
   "metadata": {},
   "source": [
    "### 2. Filtro de dataset"
   ]
  },
  {
   "cell_type": "code",
   "execution_count": 45,
   "id": "d41f4dd6-5460-49e5-aeb3-12ff5c1048e9",
   "metadata": {},
   "outputs": [],
   "source": [
    "df = df.iloc[:,1:]"
   ]
  },
  {
   "cell_type": "code",
   "execution_count": 46,
   "id": "0f51d525-005e-4c4a-a379-f843b6e72071",
   "metadata": {},
   "outputs": [
    {
     "name": "stdout",
     "output_type": "stream",
     "text": [
      "<class 'pandas.core.frame.DataFrame'>\n",
      "RangeIndex: 4526 entries, 0 to 4525\n",
      "Data columns (total 23 columns):\n",
      " #   Column                        Non-Null Count  Dtype  \n",
      "---  ------                        --------------  -----  \n",
      " 0   estu_genero                   4526 non-null   object \n",
      " 1   estu_tieneetnia               4526 non-null   object \n",
      " 2   estu_depto_reside             4526 non-null   object \n",
      " 3   estu_mcpio_reside             4526 non-null   object \n",
      " 4   fami_estratovivienda          4526 non-null   object \n",
      " 5   fami_personashogar            4526 non-null   object \n",
      " 6   fami_cuartoshogar             4526 non-null   object \n",
      " 7   fami_tieneinternet            4526 non-null   object \n",
      " 8   fami_tieneserviciotv          4526 non-null   object \n",
      " 9   fami_tienecomputador          4526 non-null   object \n",
      " 10  fami_tienelavadora            4526 non-null   object \n",
      " 11  fami_tienehornomicroogas      4526 non-null   object \n",
      " 12  fami_tieneautomovil           4526 non-null   object \n",
      " 13  fami_tienemotocicleta         4526 non-null   object \n",
      " 14  fami_tieneconsolavideojuegos  4526 non-null   object \n",
      " 15  cole_bilingue                 4526 non-null   object \n",
      " 16  punt_global                   4526 non-null   float64\n",
      " 17  punt_lectura_critica          4526 non-null   float64\n",
      " 18  punt_matematicas              4526 non-null   float64\n",
      " 19  punt_c_naturales              4526 non-null   float64\n",
      " 20  punt_sociales_ciudadanas      4526 non-null   float64\n",
      " 21  punt_ingles                   4526 non-null   float64\n",
      " 22  desempenio                    4526 non-null   object \n",
      "dtypes: float64(6), object(17)\n",
      "memory usage: 813.4+ KB\n"
     ]
    }
   ],
   "source": [
    "df.info()"
   ]
  },
  {
   "cell_type": "code",
   "execution_count": 47,
   "id": "49255bf9-d8ff-4fe0-8090-3b32767d701b",
   "metadata": {},
   "outputs": [],
   "source": [
    "dataset = df.values"
   ]
  },
  {
   "cell_type": "markdown",
   "id": "9518d13a-8860-43f4-961c-2a61e93e2dc4",
   "metadata": {},
   "source": [
    "### 3. Separación muestra entrenamiento y testing"
   ]
  },
  {
   "cell_type": "code",
   "execution_count": 48,
   "id": "b0420ca9-ef34-4aaa-82a4-a5fade279d30",
   "metadata": {},
   "outputs": [
    {
     "name": "stdout",
     "output_type": "stream",
     "text": [
      "Train (3168, 22) (3168, 1)\n",
      "Test (1358, 22) (1358, 1)\n"
     ]
    }
   ],
   "source": [
    "X = dataset[:, :-1]\n",
    "y = dataset[:,-1]\n",
    "X = X.astype(str)\n",
    "y = y.reshape((len(y), 1))\n",
    "X_train, X_test, y_train, y_test = train_test_split(X, y, test_size=0.30, random_state=1)\n",
    "print('Train', X_train.shape, y_train.shape)\n",
    "print('Test', X_test.shape, y_test.shape)"
   ]
  },
  {
   "cell_type": "code",
   "execution_count": 49,
   "id": "0f0f39b6-7db8-48fe-8a95-08705f11131e",
   "metadata": {},
   "outputs": [],
   "source": [
    "oe = OrdinalEncoder()\n",
    "oe.fit(X_train)\n",
    "X_train_enc = oe.transform(X_train)\n",
    "oe.fit(X_test)\n",
    "X_test_enc = oe.transform(X_test)"
   ]
  },
  {
   "cell_type": "code",
   "execution_count": 50,
   "id": "e6b2c005-cacc-482f-a829-86e94f689448",
   "metadata": {},
   "outputs": [
    {
     "name": "stderr",
     "output_type": "stream",
     "text": [
      "/home/jest/anaconda3/envs/javeriana_tf/lib/python3.9/site-packages/sklearn/preprocessing/_label.py:98: DataConversionWarning: A column-vector y was passed when a 1d array was expected. Please change the shape of y to (n_samples, ), for example using ravel().\n",
      "  y = column_or_1d(y, warn=True)\n",
      "/home/jest/anaconda3/envs/javeriana_tf/lib/python3.9/site-packages/sklearn/preprocessing/_label.py:133: DataConversionWarning: A column-vector y was passed when a 1d array was expected. Please change the shape of y to (n_samples, ), for example using ravel().\n",
      "  y = column_or_1d(y, warn=True)\n"
     ]
    }
   ],
   "source": [
    "le = LabelEncoder()\n",
    "le.fit(y_train)\n",
    "y_train_enc = le.transform(y_train)\n",
    "y_test_enc = le.transform(y_test)\n",
    "y_train_enc = np_utils.to_categorical(y_train_enc)\n",
    "y_test_enc = np_utils.to_categorical(y_test_enc)"
   ]
  },
  {
   "cell_type": "markdown",
   "id": "025a9b29-0245-4d02-bbc3-a770fcc683d4",
   "metadata": {},
   "source": [
    "### 4. Modelo Redes Neuronales\n",
    "\n",
    "Del primer entregable tenemos que el mejor modelo es\n",
    "- Mejor modelo: función de activación sigmoide\n",
    "- 15 épocas\n",
    "- optimizador de Adam"
   ]
  },
  {
   "cell_type": "code",
   "execution_count": 51,
   "id": "12c36227-5be3-4563-8d4f-b02fde77d53a",
   "metadata": {},
   "outputs": [],
   "source": [
    "# modelo de 3 capas (1 oculta)\n",
    "model = Sequential()\n",
    "model.add(Dense(64, input_dim=X_train_enc.shape[1], activation='sigmoid', kernel_initializer='he_normal'))\n",
    "model.add(Dense(16, activation='sigmoid', kernel_initializer='he_normal'))\n",
    "model.add(Dense(3, activation='sigmoid'))"
   ]
  },
  {
   "cell_type": "code",
   "execution_count": 52,
   "id": "e74c2619-edda-4dae-b3b0-f993a7f102fe",
   "metadata": {},
   "outputs": [
    {
     "name": "stdout",
     "output_type": "stream",
     "text": [
      "Model: \"sequential_1\"\n",
      "_________________________________________________________________\n",
      "Layer (type)                 Output Shape              Param #   \n",
      "=================================================================\n",
      "dense_7 (Dense)              (None, 64)                1472      \n",
      "_________________________________________________________________\n",
      "dense_8 (Dense)              (None, 16)                1040      \n",
      "_________________________________________________________________\n",
      "dense_9 (Dense)              (None, 3)                 51        \n",
      "=================================================================\n",
      "Total params: 2,563\n",
      "Trainable params: 2,563\n",
      "Non-trainable params: 0\n",
      "_________________________________________________________________\n"
     ]
    }
   ],
   "source": [
    "model.summary()"
   ]
  },
  {
   "cell_type": "code",
   "execution_count": 53,
   "id": "0fff321c-1a90-494c-b1d0-2ea20e9952b0",
   "metadata": {},
   "outputs": [
    {
     "data": {
      "image/png": "[encoded data removed]",
      "text/plain": [
       "<IPython.core.display.Image object>"
      ]
     },
     "execution_count": 53,
     "metadata": {},
     "output_type": "execute_result"
    }
   ],
   "source": [
    "plot_model(model, \n",
    "         show_shapes=True, show_layer_names=True)"
   ]
  },
  {
   "cell_type": "code",
   "execution_count": 77,
   "id": "e44958ea-e042-4711-98f3-b52a7d6398e0",
   "metadata": {},
   "outputs": [
    {
     "name": "stdout",
     "output_type": "stream",
     "text": [
      "Resultados bajo consideración Primer Ejercicio\n",
      "Epoch 1/30\n",
      "198/198 - 0s - loss: 0.1309 - accuracy: 0.9217\n",
      "Epoch 2/30\n",
      "198/198 - 0s - loss: 0.1272 - accuracy: 0.9249\n",
      "Epoch 3/30\n",
      "198/198 - 0s - loss: 0.1247 - accuracy: 0.9290\n",
      "Epoch 4/30\n",
      "198/198 - 0s - loss: 0.1216 - accuracy: 0.9261\n",
      "Epoch 5/30\n",
      "198/198 - 0s - loss: 0.1206 - accuracy: 0.9293\n",
      "Epoch 6/30\n",
      "198/198 - 0s - loss: 0.1176 - accuracy: 0.9277\n",
      "Epoch 7/30\n",
      "198/198 - 0s - loss: 0.1141 - accuracy: 0.9287\n",
      "Epoch 8/30\n",
      "198/198 - 0s - loss: 0.1112 - accuracy: 0.9340\n",
      "Epoch 9/30\n",
      "198/198 - 0s - loss: 0.1090 - accuracy: 0.9340\n",
      "Epoch 10/30\n",
      "198/198 - 0s - loss: 0.1059 - accuracy: 0.9356\n",
      "Epoch 11/30\n",
      "198/198 - 0s - loss: 0.1045 - accuracy: 0.9343\n",
      "Epoch 12/30\n",
      "198/198 - 0s - loss: 0.1019 - accuracy: 0.9375\n",
      "Epoch 13/30\n",
      "198/198 - 0s - loss: 0.1014 - accuracy: 0.9388\n",
      "Epoch 14/30\n",
      "198/198 - 0s - loss: 0.0989 - accuracy: 0.9375\n",
      "Epoch 15/30\n",
      "198/198 - 0s - loss: 0.0954 - accuracy: 0.9400\n",
      "Epoch 16/30\n",
      "198/198 - 0s - loss: 0.0930 - accuracy: 0.9426\n",
      "Epoch 17/30\n",
      "198/198 - 0s - loss: 0.0910 - accuracy: 0.9435\n",
      "Epoch 18/30\n",
      "198/198 - 0s - loss: 0.0907 - accuracy: 0.9444\n",
      "Epoch 19/30\n",
      "198/198 - 0s - loss: 0.0888 - accuracy: 0.9441\n",
      "Epoch 20/30\n",
      "198/198 - 0s - loss: 0.0867 - accuracy: 0.9457\n",
      "Epoch 21/30\n",
      "198/198 - 0s - loss: 0.0863 - accuracy: 0.9482\n",
      "Epoch 22/30\n",
      "198/198 - 0s - loss: 0.0829 - accuracy: 0.9530\n",
      "Epoch 23/30\n",
      "198/198 - 0s - loss: 0.0834 - accuracy: 0.9489\n",
      "Epoch 24/30\n",
      "198/198 - 0s - loss: 0.0802 - accuracy: 0.9545\n",
      "Epoch 25/30\n",
      "198/198 - 0s - loss: 0.0797 - accuracy: 0.9549\n",
      "Epoch 26/30\n",
      "198/198 - 0s - loss: 0.0812 - accuracy: 0.9498\n",
      "Epoch 27/30\n",
      "198/198 - 0s - loss: 0.0820 - accuracy: 0.9523\n",
      "Epoch 28/30\n",
      "198/198 - 0s - loss: 0.0771 - accuracy: 0.9564\n",
      "Epoch 29/30\n",
      "198/198 - 0s - loss: 0.0773 - accuracy: 0.9564\n",
      "Epoch 30/30\n",
      "198/198 - 0s - loss: 0.0731 - accuracy: 0.9555\n",
      "Accuracy Test: 84.83\n"
     ]
    }
   ],
   "source": [
    "print('Resultados bajo consideración Primer Ejercicio')\n",
    "# compile the keras model\n",
    "model.compile(loss='binary_crossentropy', optimizer='adam', metrics=['accuracy'])\n",
    "# fit the keras model on the dataset\n",
    "model.fit(X_train_enc, y_train_enc, epochs=30, batch_size=16, verbose=2)\n",
    "# evaluate the keras model\n",
    "_, accuracy = model.evaluate(X_test_enc, y_test_enc, verbose=0)\n",
    "print('Accuracy Test: %.2f' % (accuracy*100))"
   ]
  },
  {
   "cell_type": "markdown",
   "id": "d9ad4acc-b348-4190-9e7b-2f983c7dca9d",
   "metadata": {},
   "source": [
    "### 5. Implementando factor Genetico"
   ]
  },
  {
   "cell_type": "code",
   "execution_count": 54,
   "id": "feb145d2-278b-4cd5-b211-ad35428edf91",
   "metadata": {},
   "outputs": [],
   "source": [
    "def fitness_func(solution, sol_idx):\n",
    "    global data_inputs, data_outputs, keras_ga, model\n",
    "\n",
    "    model_weights_matrix = pygad.kerasga.model_weights_as_matrix(model=model,\n",
    "                                                                 weights_vector=solution)\n",
    "\n",
    "    model.set_weights(weights=model_weights_matrix)\n",
    "\n",
    "    predictions = model.predict(data_inputs)\n",
    "\n",
    "    mae = tensorflow.keras.losses.MeanAbsoluteError()\n",
    "    abs_error = mae(data_outputs, predictions).numpy() + 0.00000001\n",
    "    solution_fitness = 1.0 / abs_error\n",
    "\n",
    "    return solution_fitness\n",
    "\n",
    "def callback_generation(ga_instance):\n",
    "    print(\"Generation = {generation}\".format(generation=ga_instance.generations_completed))\n",
    "    print(\"Fitness    = {fitness}\".format(fitness=ga_instance.best_solution()[1]))\n"
   ]
  },
  {
   "cell_type": "code",
   "execution_count": 375,
   "id": "48970ad6-ebde-48ed-92db-ab4731bbd2e6",
   "metadata": {},
   "outputs": [],
   "source": [
    "def grid_ag_manual_model(model, \n",
    "                   num_solutions_,\n",
    "                   data_inputs = X_train_enc,\n",
    "                   data_outputs = y_train_enc,\n",
    "                   num_generations = 50,\n",
    "                   num_parents_mating = 5,\n",
    "                   parent_selection_type_= 'sss',\n",
    "                   keep_parents_ = -1,\n",
    "                   mutation_type_ = 'random'):\n",
    "    weights_vector = pygad.kerasga.model_weights_as_vector(model=model)\n",
    "    keras_ga = pygad.kerasga.KerasGA(model=model,\n",
    "                                 num_solutions=num_solutions_)\n",
    "    initial_population = keras_ga.population_weights\n",
    "    ga_instance = pygad.GA(num_generations=num_generations, \n",
    "                           num_parents_mating=num_solutions_, \n",
    "                           initial_population=initial_population,\n",
    "                           parent_selection_type= parent_selection_type_,\n",
    "                           keep_parents = keep_parents_,\n",
    "                           mutation_type = mutation_type_,\n",
    "                           fitness_func=fitness_func,\n",
    "                           mutation_percent_genes= 'default' if mutation_type_ != 'adaptive' else [0.5, 0.5],\n",
    "                          # on_generation=callback_generation\n",
    "                          )\n",
    "    \n",
    "    ga_instance.run()\n",
    "    \n",
    "    \n",
    "    return ga_instance"
   ]
  },
  {
   "cell_type": "code",
   "execution_count": 317,
   "id": "99260c78-38c3-405d-9b16-aa654bafa71f",
   "metadata": {},
   "outputs": [],
   "source": [
    "def grid_ag_manual(model, \n",
    "                   num_solutions_,\n",
    "                   data_inputs = X_train_enc,\n",
    "                   data_outputs = y_train_enc,\n",
    "                   num_generations = 50,\n",
    "                   num_parents_mating = 5,\n",
    "                   parent_selection_type_= 'sss',\n",
    "                   keep_parents_ = -1,\n",
    "                   mutation_type_ = 'random'):\n",
    "    weights_vector = pygad.kerasga.model_weights_as_vector(model=model)\n",
    "    keras_ga = pygad.kerasga.KerasGA(model=model,\n",
    "                                 num_solutions=num_solutions_)\n",
    "    initial_population = keras_ga.population_weights\n",
    "    ga_instance = pygad.GA(num_generations=num_generations, \n",
    "                           num_parents_mating=num_solutions_, \n",
    "                           initial_population=initial_population,\n",
    "                           parent_selection_type= parent_selection_type_,\n",
    "                           keep_parents = keep_parents_,\n",
    "                           mutation_type = mutation_type_,\n",
    "                           fitness_func=fitness_func,\n",
    "                           mutation_percent_genes= 'default' if mutation_type_ != 'adaptive' else [0.5, 0.5],\n",
    "                          # on_generation=callback_generation\n",
    "                          )\n",
    "    \n",
    "    ga_instance.run()\n",
    "    \n",
    "    # Returning the details of the best solution.\n",
    "    solution, solution_fitness, solution_idx = ga_instance.best_solution()\n",
    "    \n",
    "    #print(\"Fitness value of the best solution = {solution_fitness}\".format(solution_fitness=solution_fitness))\n",
    "    #print(\"Index of the best solution : {solution_idx}\".format(solution_idx=solution_idx))\n",
    "    \n",
    "    # Fetch the parameters of the best solution.\n",
    "    best_solution_weights = pygad.kerasga.model_weights_as_matrix(model=model,\n",
    "                                                              weights_vector=solution)\n",
    "    \n",
    "    model.set_weights(best_solution_weights)\n",
    "    predictions = model.predict(data_inputs)\n",
    "    #print(\"Predictions : \\n\", predictions)\n",
    "    \n",
    "    # Calculate the categorical crossentropy for the trained model.\n",
    "    cce = tensorflow.keras.losses.CategoricalCrossentropy()\n",
    "    #print(\"Categorical Crossentropy : \", cce(data_outputs, predictions).numpy())\n",
    "\n",
    "    # Calculate the classification accuracy for the trained model.\n",
    "    ca = tensorflow.keras.metrics.CategoricalAccuracy()\n",
    "    ca.update_state(data_outputs, predictions)\n",
    "    #print(ca.result())\n",
    "    accuracy = ca.result().numpy()\n",
    "    #print(\"Accuracy : \", accuracy)\n",
    "\n",
    "\n",
    "    return_value = (num_solutions_,\n",
    "                    num_generations,\n",
    "                     num_parents_mating,\n",
    "                     parent_selection_type_,\n",
    "                     keep_parents_,\n",
    "                     mutation_type_,\n",
    "                     solution_fitness, solution_idx, cce(data_outputs, predictions).numpy(), accuracy )\n",
    "    return return_value\n",
    "\n",
    "# num_generations\n",
    "# num_parents_mating\n",
    "# parent_selection_type\n",
    "# keep_parents_\n",
    "# mutation_type\n",
    "# solution_fitness\n",
    "# solution_idx\n",
    "# entriopia\n",
    "# accuracy\n",
    "\n"
   ]
  },
  {
   "cell_type": "code",
   "execution_count": 318,
   "id": "fc6e6203-c8b4-4978-afd6-606c04db2e91",
   "metadata": {},
   "outputs": [
    {
     "data": {
      "text/html": [
       "<div>\n",
       "<style scoped>\n",
       "    .dataframe tbody tr th:only-of-type {\n",
       "        vertical-align: middle;\n",
       "    }\n",
       "\n",
       "    .dataframe tbody tr th {\n",
       "        vertical-align: top;\n",
       "    }\n",
       "\n",
       "    .dataframe thead th {\n",
       "        text-align: right;\n",
       "    }\n",
       "</style>\n",
       "<table border=\"1\" class=\"dataframe\">\n",
       "  <thead>\n",
       "    <tr style=\"text-align: right;\">\n",
       "      <th></th>\n",
       "      <th>0</th>\n",
       "      <th>1</th>\n",
       "      <th>2</th>\n",
       "      <th>3</th>\n",
       "      <th>4</th>\n",
       "      <th>5</th>\n",
       "      <th>6</th>\n",
       "      <th>7</th>\n",
       "      <th>8</th>\n",
       "      <th>9</th>\n",
       "    </tr>\n",
       "  </thead>\n",
       "  <tbody>\n",
       "    <tr>\n",
       "      <th>0</th>\n",
       "      <td>2</td>\n",
       "      <td>200</td>\n",
       "      <td>5</td>\n",
       "      <td>tournament</td>\n",
       "      <td>-1</td>\n",
       "      <td>adaptive</td>\n",
       "      <td>1.497999</td>\n",
       "      <td>0</td>\n",
       "      <td>1.10133</td>\n",
       "      <td>0.173927</td>\n",
       "    </tr>\n",
       "  </tbody>\n",
       "</table>\n",
       "</div>"
      ],
      "text/plain": [
       "   0    1  2           3   4         5         6  7        8         9\n",
       "0  2  200  5  tournament  -1  adaptive  1.497999  0  1.10133  0.173927"
      ]
     },
     "execution_count": 318,
     "metadata": {},
     "output_type": "execute_result"
    }
   ],
   "source": [
    "aux = grid_ag_manual(model, \n",
    "                   num_solutions_=2,\n",
    "                   data_inputs = X_train_enc,\n",
    "                   data_outputs = y_train_enc,\n",
    "                   num_generations = 200,\n",
    "                   num_parents_mating = 5,\n",
    "                   parent_selection_type_= 'tournament',\n",
    "                   keep_parents_ = -1,\n",
    "                   mutation_type_ = 'adaptive')\n",
    "pd.DataFrame(aux).transpose()"
   ]
  },
  {
   "cell_type": "code",
   "execution_count": 428,
   "id": "48b8c08d-718f-4f99-81cd-2e227a2671a6",
   "metadata": {},
   "outputs": [],
   "source": [
    "num_solutions = [1,2,5,10]\n",
    "num_generations = [10,20, 50, 100]\n",
    "num_parents_mating = [5,8]\n",
    "parent_selection_type = ['sss', 'rws', 'rank', 'tournament']\n",
    "keep_parents = [-1,0]\n",
    "mutation_type_= ['swap', 'inversion', 'scramble', 'adaptive']"
   ]
  },
  {
   "cell_type": "code",
   "execution_count": 429,
   "id": "dec91b46-694c-4d03-8f26-a8a6a6b119f1",
   "metadata": {},
   "outputs": [
    {
     "name": "stdout",
     "output_type": "stream",
     "text": [
      "Numero de experimentos\n"
     ]
    },
    {
     "data": {
      "text/plain": [
       "1024"
      ]
     },
     "execution_count": 429,
     "metadata": {},
     "output_type": "execute_result"
    }
   ],
   "source": [
    "print('Numero de experimentos')\n",
    "len(num_solutions) * len(num_generations) * len(num_parents_mating) * len(parent_selection_type) * len(keep_parents) * len(mutation_type_)"
   ]
  },
  {
   "cell_type": "markdown",
   "id": "64d8b088-331d-401a-8c60-edf91a87b7ac",
   "metadata": {},
   "source": [
    "### 6. Corrida de Experimentos"
   ]
  },
  {
   "cell_type": "code",
   "execution_count": 321,
   "id": "ca8ace36-b264-4475-9c37-35b3680b796f",
   "metadata": {},
   "outputs": [],
   "source": [
    "futures = list()"
   ]
  },
  {
   "cell_type": "code",
   "execution_count": 322,
   "id": "fecdf457-256b-4e46-bc35-bdabe829a320",
   "metadata": {},
   "outputs": [],
   "source": [
    "for i in num_solutions:\n",
    "    for j in num_generations:\n",
    "        for k in num_parents_mating: \n",
    "            for l in parent_selection_type:\n",
    "                for m in keep_parents:\n",
    "                    for n in mutation_type_: \n",
    "                        futures.append(pool.apply_async(func=grid_ag_manual,\n",
    "                                                        args= (model, i,X_train_enc,y_train_enc,j,k,l,m,n)))"
   ]
  },
  {
   "cell_type": "code",
   "execution_count": 323,
   "id": "65639e0a-59e1-4656-b67d-e1f13c4f5af8",
   "metadata": {},
   "outputs": [
    {
     "name": "stderr",
     "output_type": "stream",
     "text": [
      "100%|████████████████████████████████████████████| 512/512 [18:11<00:00,  2.13s/it]"
     ]
    },
    {
     "name": "stdout",
     "output_type": "stream",
     "text": [
      "CPU times: user 32min 19s, sys: 2min 57s, total: 35min 17s\n",
      "Wall time: 18min 11s\n"
     ]
    },
    {
     "name": "stderr",
     "output_type": "stream",
     "text": [
      "\n"
     ]
    }
   ],
   "source": [
    "%%time\n",
    "df_results =pd.DataFrame()\n",
    "for future in tqdm(futures):\n",
    "        try: df_results = df_results.append(pd.DataFrame(future.get()).transpose())\n",
    "        except: pass"
   ]
  },
  {
   "cell_type": "code",
   "execution_count": 327,
   "id": "6ec90982-b5bc-40cb-a8d8-42988a619c2f",
   "metadata": {},
   "outputs": [],
   "source": [
    "df_results.columns = ['num_solutions','num_generations', 'num_parents_mating','parent_selection_type',\n",
    "'keep_parents_',\n",
    "'mutation_type',\n",
    "'solution_fitness',\n",
    "'solution_idx',\n",
    "'entriopia',\n",
    "'accuracy']"
   ]
  },
  {
   "cell_type": "code",
   "execution_count": 414,
   "id": "e638aada-f9d4-4ffa-905b-31c54a90e0cb",
   "metadata": {},
   "outputs": [
    {
     "data": {
      "text/html": [
       "<div>\n",
       "<style scoped>\n",
       "    .dataframe tbody tr th:only-of-type {\n",
       "        vertical-align: middle;\n",
       "    }\n",
       "\n",
       "    .dataframe tbody tr th {\n",
       "        vertical-align: top;\n",
       "    }\n",
       "\n",
       "    .dataframe thead th {\n",
       "        text-align: right;\n",
       "    }\n",
       "</style>\n",
       "<table border=\"1\" class=\"dataframe\">\n",
       "  <thead>\n",
       "    <tr style=\"text-align: right;\">\n",
       "      <th></th>\n",
       "      <th>num_solutions</th>\n",
       "      <th>num_generations</th>\n",
       "      <th>num_parents_mating</th>\n",
       "      <th>parent_selection_type</th>\n",
       "      <th>keep_parents_</th>\n",
       "      <th>mutation_type</th>\n",
       "      <th>solution_fitness</th>\n",
       "      <th>solution_idx</th>\n",
       "      <th>entriopia</th>\n",
       "      <th>accuracy</th>\n",
       "    </tr>\n",
       "  </thead>\n",
       "  <tbody>\n",
       "    <tr>\n",
       "      <th>0</th>\n",
       "      <td>1</td>\n",
       "      <td>10</td>\n",
       "      <td>5</td>\n",
       "      <td>sss</td>\n",
       "      <td>-1</td>\n",
       "      <td>swap</td>\n",
       "      <td>1.499082</td>\n",
       "      <td>0</td>\n",
       "      <td>1.169458</td>\n",
       "      <td>0.173927</td>\n",
       "    </tr>\n",
       "    <tr>\n",
       "      <th>0</th>\n",
       "      <td>1</td>\n",
       "      <td>10</td>\n",
       "      <td>5</td>\n",
       "      <td>sss</td>\n",
       "      <td>-1</td>\n",
       "      <td>inversion</td>\n",
       "      <td>1.499082</td>\n",
       "      <td>0</td>\n",
       "      <td>1.169458</td>\n",
       "      <td>0.173927</td>\n",
       "    </tr>\n",
       "    <tr>\n",
       "      <th>0</th>\n",
       "      <td>1</td>\n",
       "      <td>10</td>\n",
       "      <td>5</td>\n",
       "      <td>sss</td>\n",
       "      <td>-1</td>\n",
       "      <td>scramble</td>\n",
       "      <td>1.499082</td>\n",
       "      <td>0</td>\n",
       "      <td>1.169458</td>\n",
       "      <td>0.173927</td>\n",
       "    </tr>\n",
       "    <tr>\n",
       "      <th>0</th>\n",
       "      <td>1</td>\n",
       "      <td>10</td>\n",
       "      <td>5</td>\n",
       "      <td>sss</td>\n",
       "      <td>-1</td>\n",
       "      <td>adaptive</td>\n",
       "      <td>1.499082</td>\n",
       "      <td>0</td>\n",
       "      <td>1.169458</td>\n",
       "      <td>0.173927</td>\n",
       "    </tr>\n",
       "    <tr>\n",
       "      <th>0</th>\n",
       "      <td>1</td>\n",
       "      <td>10</td>\n",
       "      <td>5</td>\n",
       "      <td>sss</td>\n",
       "      <td>0</td>\n",
       "      <td>swap</td>\n",
       "      <td>1.63795</td>\n",
       "      <td>0</td>\n",
       "      <td>1.153603</td>\n",
       "      <td>0.221275</td>\n",
       "    </tr>\n",
       "  </tbody>\n",
       "</table>\n",
       "</div>"
      ],
      "text/plain": [
       "  num_solutions num_generations num_parents_mating parent_selection_type  \\\n",
       "0             1              10                  5                   sss   \n",
       "0             1              10                  5                   sss   \n",
       "0             1              10                  5                   sss   \n",
       "0             1              10                  5                   sss   \n",
       "0             1              10                  5                   sss   \n",
       "\n",
       "  keep_parents_ mutation_type solution_fitness solution_idx entriopia  \\\n",
       "0            -1          swap         1.499082            0  1.169458   \n",
       "0            -1     inversion         1.499082            0  1.169458   \n",
       "0            -1      scramble         1.499082            0  1.169458   \n",
       "0            -1      adaptive         1.499082            0  1.169458   \n",
       "0             0          swap          1.63795            0  1.153603   \n",
       "\n",
       "   accuracy  \n",
       "0  0.173927  \n",
       "0  0.173927  \n",
       "0  0.173927  \n",
       "0  0.173927  \n",
       "0  0.221275  "
      ]
     },
     "execution_count": 414,
     "metadata": {},
     "output_type": "execute_result"
    }
   ],
   "source": [
    "df_results.head()"
   ]
  },
  {
   "cell_type": "code",
   "execution_count": 415,
   "id": "6643c7bc-78a7-4b05-98c1-ac9c16f29f3e",
   "metadata": {},
   "outputs": [],
   "source": [
    "df_results.accuracy = pd.to_numeric(df_results.accuracy)"
   ]
  },
  {
   "cell_type": "markdown",
   "id": "21332af7-846a-4f35-881e-ac84ee97988c",
   "metadata": {},
   "source": [
    "### 7. Analisis de Variables"
   ]
  },
  {
   "cell_type": "code",
   "execution_count": 359,
   "id": "3b236eeb-642d-4275-8b72-b4f19d3f97d4",
   "metadata": {},
   "outputs": [
    {
     "data": {
      "text/plain": [
       "Text(0.5, 1.0, 'Tipo de selección vs Accuracy')"
      ]
     },
     "execution_count": 359,
     "metadata": {},
     "output_type": "execute_result"
    },
    {
     "data": {
      "image/png": "[encoded data removed]",
      "text/plain": [
       "<Figure size 1080x360 with 2 Axes>"
      ]
     },
     "metadata": {
      "needs_background": "light"
     },
     "output_type": "display_data"
    }
   ],
   "source": [
    "fig, ax = plt.subplots(ncols=2, figsize=(15, 5))\n",
    "sns.boxplot(data=df_results, x='parent_selection_type', y='solution_fitness', ax=ax[0]).set_title('Tipo de selección vs Fitness')\n",
    "sns.boxplot(data=df_results, x='parent_selection_type', y='accuracy', ax=ax[1]).set_title('Tipo de selección vs Accuracy')"
   ]
  },
  {
   "cell_type": "code",
   "execution_count": 422,
   "id": "8d94d7f7-3101-4cac-a1e6-e0e6bf369574",
   "metadata": {},
   "outputs": [
    {
     "name": "stdout",
     "output_type": "stream",
     "text": [
      "Analisis ANOVA\n"
     ]
    },
    {
     "data": {
      "text/html": [
       "<div>\n",
       "<style scoped>\n",
       "    .dataframe tbody tr th:only-of-type {\n",
       "        vertical-align: middle;\n",
       "    }\n",
       "\n",
       "    .dataframe tbody tr th {\n",
       "        vertical-align: top;\n",
       "    }\n",
       "\n",
       "    .dataframe thead th {\n",
       "        text-align: right;\n",
       "    }\n",
       "</style>\n",
       "<table border=\"1\" class=\"dataframe\">\n",
       "  <thead>\n",
       "    <tr style=\"text-align: right;\">\n",
       "      <th></th>\n",
       "      <th>group1</th>\n",
       "      <th>group2</th>\n",
       "      <th>Diff</th>\n",
       "      <th>Lower</th>\n",
       "      <th>Upper</th>\n",
       "      <th>q-value</th>\n",
       "      <th>p-value</th>\n",
       "    </tr>\n",
       "  </thead>\n",
       "  <tbody>\n",
       "    <tr>\n",
       "      <th>0</th>\n",
       "      <td>sss</td>\n",
       "      <td>rws</td>\n",
       "      <td>0.015011</td>\n",
       "      <td>-0.005329</td>\n",
       "      <td>0.035351</td>\n",
       "      <td>2.690285</td>\n",
       "      <td>0.228451</td>\n",
       "    </tr>\n",
       "    <tr>\n",
       "      <th>1</th>\n",
       "      <td>sss</td>\n",
       "      <td>rank</td>\n",
       "      <td>0.001075</td>\n",
       "      <td>-0.019264</td>\n",
       "      <td>0.021415</td>\n",
       "      <td>0.192700</td>\n",
       "      <td>0.900000</td>\n",
       "    </tr>\n",
       "    <tr>\n",
       "      <th>2</th>\n",
       "      <td>sss</td>\n",
       "      <td>tournament</td>\n",
       "      <td>0.002871</td>\n",
       "      <td>-0.017469</td>\n",
       "      <td>0.023210</td>\n",
       "      <td>0.514456</td>\n",
       "      <td>0.900000</td>\n",
       "    </tr>\n",
       "    <tr>\n",
       "      <th>3</th>\n",
       "      <td>rws</td>\n",
       "      <td>rank</td>\n",
       "      <td>0.013936</td>\n",
       "      <td>-0.006404</td>\n",
       "      <td>0.034275</td>\n",
       "      <td>2.497585</td>\n",
       "      <td>0.291198</td>\n",
       "    </tr>\n",
       "    <tr>\n",
       "      <th>4</th>\n",
       "      <td>rws</td>\n",
       "      <td>tournament</td>\n",
       "      <td>0.012140</td>\n",
       "      <td>-0.008199</td>\n",
       "      <td>0.032480</td>\n",
       "      <td>2.175829</td>\n",
       "      <td>0.416615</td>\n",
       "    </tr>\n",
       "    <tr>\n",
       "      <th>5</th>\n",
       "      <td>rank</td>\n",
       "      <td>tournament</td>\n",
       "      <td>0.001795</td>\n",
       "      <td>-0.018544</td>\n",
       "      <td>0.022135</td>\n",
       "      <td>0.321756</td>\n",
       "      <td>0.900000</td>\n",
       "    </tr>\n",
       "  </tbody>\n",
       "</table>\n",
       "</div>"
      ],
      "text/plain": [
       "  group1      group2      Diff     Lower     Upper   q-value   p-value\n",
       "0    sss         rws  0.015011 -0.005329  0.035351  2.690285  0.228451\n",
       "1    sss        rank  0.001075 -0.019264  0.021415  0.192700  0.900000\n",
       "2    sss  tournament  0.002871 -0.017469  0.023210  0.514456  0.900000\n",
       "3    rws        rank  0.013936 -0.006404  0.034275  2.497585  0.291198\n",
       "4    rws  tournament  0.012140 -0.008199  0.032480  2.175829  0.416615\n",
       "5   rank  tournament  0.001795 -0.018544  0.022135  0.321756  0.900000"
      ]
     },
     "execution_count": 422,
     "metadata": {},
     "output_type": "execute_result"
    }
   ],
   "source": [
    "print('Analisis ANOVA')\n",
    "res = stat()\n",
    "res.tukey_hsd(df=df_results,\n",
    "              res_var='accuracy', xfac_var='parent_selection_type', anova_model='accuracy ~ C(parent_selection_type)')\n",
    "res.tukey_summary"
   ]
  },
  {
   "cell_type": "code",
   "execution_count": 424,
   "id": "2af50afc-872e-4ec6-87b2-d0c8c7addd3a",
   "metadata": {},
   "outputs": [
    {
     "data": {
      "text/plain": [
       "Text(0.5, 1.0, 'Tipo de mutacion vs Accuracy')"
      ]
     },
     "execution_count": 424,
     "metadata": {},
     "output_type": "execute_result"
    },
    {
     "data": {
      "image/png": "[encoded data removed]",
      "text/plain": [
       "<Figure size 1080x360 with 2 Axes>"
      ]
     },
     "metadata": {
      "needs_background": "light"
     },
     "output_type": "display_data"
    }
   ],
   "source": [
    "fig, ax = plt.subplots(ncols=2, figsize=(15, 5))\n",
    "sns.boxplot(data=df_results, x='mutation_type', y='solution_fitness', ax=ax[0]).set_title('Tipo de mutacion vs Fitness')\n",
    "sns.boxplot(data=df_results, x='mutation_type', y='accuracy', ax=ax[1]).set_title('Tipo de mutacion vs Accuracy')"
   ]
  },
  {
   "cell_type": "code",
   "execution_count": 425,
   "id": "4c39dc91-2511-4c64-afcf-10915e2a1ee9",
   "metadata": {},
   "outputs": [
    {
     "name": "stdout",
     "output_type": "stream",
     "text": [
      "Analisis ANOVA\n"
     ]
    },
    {
     "data": {
      "text/html": [
       "<div>\n",
       "<style scoped>\n",
       "    .dataframe tbody tr th:only-of-type {\n",
       "        vertical-align: middle;\n",
       "    }\n",
       "\n",
       "    .dataframe tbody tr th {\n",
       "        vertical-align: top;\n",
       "    }\n",
       "\n",
       "    .dataframe thead th {\n",
       "        text-align: right;\n",
       "    }\n",
       "</style>\n",
       "<table border=\"1\" class=\"dataframe\">\n",
       "  <thead>\n",
       "    <tr style=\"text-align: right;\">\n",
       "      <th></th>\n",
       "      <th>group1</th>\n",
       "      <th>group2</th>\n",
       "      <th>Diff</th>\n",
       "      <th>Lower</th>\n",
       "      <th>Upper</th>\n",
       "      <th>q-value</th>\n",
       "      <th>p-value</th>\n",
       "    </tr>\n",
       "  </thead>\n",
       "  <tbody>\n",
       "    <tr>\n",
       "      <th>0</th>\n",
       "      <td>swap</td>\n",
       "      <td>inversion</td>\n",
       "      <td>0.007198</td>\n",
       "      <td>-0.013165</td>\n",
       "      <td>0.027562</td>\n",
       "      <td>1.288616</td>\n",
       "      <td>0.773911</td>\n",
       "    </tr>\n",
       "    <tr>\n",
       "      <th>1</th>\n",
       "      <td>swap</td>\n",
       "      <td>scramble</td>\n",
       "      <td>0.014355</td>\n",
       "      <td>-0.006008</td>\n",
       "      <td>0.034718</td>\n",
       "      <td>2.569727</td>\n",
       "      <td>0.266551</td>\n",
       "    </tr>\n",
       "    <tr>\n",
       "      <th>2</th>\n",
       "      <td>swap</td>\n",
       "      <td>adaptive</td>\n",
       "      <td>0.004604</td>\n",
       "      <td>-0.015759</td>\n",
       "      <td>0.024967</td>\n",
       "      <td>0.824202</td>\n",
       "      <td>0.900000</td>\n",
       "    </tr>\n",
       "    <tr>\n",
       "      <th>3</th>\n",
       "      <td>inversion</td>\n",
       "      <td>scramble</td>\n",
       "      <td>0.007157</td>\n",
       "      <td>-0.013207</td>\n",
       "      <td>0.027520</td>\n",
       "      <td>1.281111</td>\n",
       "      <td>0.776888</td>\n",
       "    </tr>\n",
       "    <tr>\n",
       "      <th>4</th>\n",
       "      <td>inversion</td>\n",
       "      <td>adaptive</td>\n",
       "      <td>0.002594</td>\n",
       "      <td>-0.017769</td>\n",
       "      <td>0.022958</td>\n",
       "      <td>0.464414</td>\n",
       "      <td>0.900000</td>\n",
       "    </tr>\n",
       "    <tr>\n",
       "      <th>5</th>\n",
       "      <td>scramble</td>\n",
       "      <td>adaptive</td>\n",
       "      <td>0.009751</td>\n",
       "      <td>-0.010612</td>\n",
       "      <td>0.030114</td>\n",
       "      <td>1.745525</td>\n",
       "      <td>0.592744</td>\n",
       "    </tr>\n",
       "  </tbody>\n",
       "</table>\n",
       "</div>"
      ],
      "text/plain": [
       "      group1     group2      Diff     Lower     Upper   q-value   p-value\n",
       "0       swap  inversion  0.007198 -0.013165  0.027562  1.288616  0.773911\n",
       "1       swap   scramble  0.014355 -0.006008  0.034718  2.569727  0.266551\n",
       "2       swap   adaptive  0.004604 -0.015759  0.024967  0.824202  0.900000\n",
       "3  inversion   scramble  0.007157 -0.013207  0.027520  1.281111  0.776888\n",
       "4  inversion   adaptive  0.002594 -0.017769  0.022958  0.464414  0.900000\n",
       "5   scramble   adaptive  0.009751 -0.010612  0.030114  1.745525  0.592744"
      ]
     },
     "execution_count": 425,
     "metadata": {},
     "output_type": "execute_result"
    }
   ],
   "source": [
    "print('Analisis ANOVA')\n",
    "res = stat()\n",
    "res.tukey_hsd(df=df_results,\n",
    "              res_var='accuracy', xfac_var='mutation_type', anova_model='accuracy ~ C(mutation_type)')\n",
    "res.tukey_summary"
   ]
  },
  {
   "cell_type": "code",
   "execution_count": 426,
   "id": "7365ed27-2d21-4922-8fc9-c0cfaef5d111",
   "metadata": {},
   "outputs": [
    {
     "data": {
      "text/plain": [
       "Text(0.5, 1.0, 'Número Generaciones vs Accuracy')"
      ]
     },
     "execution_count": 426,
     "metadata": {},
     "output_type": "execute_result"
    },
    {
     "data": {
      "image/png": "[encoded data removed]",
      "text/plain": [
       "<Figure size 1080x360 with 2 Axes>"
      ]
     },
     "metadata": {
      "needs_background": "light"
     },
     "output_type": "display_data"
    }
   ],
   "source": [
    "fig, ax = plt.subplots(ncols=2, figsize=(15, 5))\n",
    "sns.boxplot(data=df_results, x='num_generations', y='solution_fitness', ax=ax[0]).set_title('Número Generaciones vs Fitness')\n",
    "sns.boxplot(data=df_results, x='num_generations', y='accuracy', ax=ax[1]).set_title('Número Generaciones vs Accuracy')"
   ]
  },
  {
   "cell_type": "code",
   "execution_count": 427,
   "id": "a67270b0-5305-4b44-a58e-22fa9bbdcfdf",
   "metadata": {},
   "outputs": [
    {
     "name": "stdout",
     "output_type": "stream",
     "text": [
      "Analisis ANOVA\n"
     ]
    },
    {
     "data": {
      "text/html": [
       "<div>\n",
       "<style scoped>\n",
       "    .dataframe tbody tr th:only-of-type {\n",
       "        vertical-align: middle;\n",
       "    }\n",
       "\n",
       "    .dataframe tbody tr th {\n",
       "        vertical-align: top;\n",
       "    }\n",
       "\n",
       "    .dataframe thead th {\n",
       "        text-align: right;\n",
       "    }\n",
       "</style>\n",
       "<table border=\"1\" class=\"dataframe\">\n",
       "  <thead>\n",
       "    <tr style=\"text-align: right;\">\n",
       "      <th></th>\n",
       "      <th>group1</th>\n",
       "      <th>group2</th>\n",
       "      <th>Diff</th>\n",
       "      <th>Lower</th>\n",
       "      <th>Upper</th>\n",
       "      <th>q-value</th>\n",
       "      <th>p-value</th>\n",
       "    </tr>\n",
       "  </thead>\n",
       "  <tbody>\n",
       "    <tr>\n",
       "      <th>0</th>\n",
       "      <td>10</td>\n",
       "      <td>20</td>\n",
       "      <td>0.003466</td>\n",
       "      <td>-0.00752</td>\n",
       "      <td>0.014452</td>\n",
       "      <td>0.876551</td>\n",
       "      <td>0.540167</td>\n",
       "    </tr>\n",
       "  </tbody>\n",
       "</table>\n",
       "</div>"
      ],
      "text/plain": [
       "   group1  group2      Diff    Lower     Upper   q-value   p-value\n",
       "0      10      20  0.003466 -0.00752  0.014452  0.876551  0.540167"
      ]
     },
     "execution_count": 427,
     "metadata": {},
     "output_type": "execute_result"
    }
   ],
   "source": [
    "print('Analisis ANOVA')\n",
    "res = stat()\n",
    "res.tukey_hsd(df=df_results,\n",
    "              res_var='accuracy', xfac_var='num_generations', anova_model='accuracy ~ C(num_generations)')\n",
    "res.tukey_summary"
   ]
  },
  {
   "cell_type": "code",
   "execution_count": null,
   "id": "1e579c1a-0465-4f81-a27a-8f31b28f79a0",
   "metadata": {},
   "outputs": [],
   "source": []
  },
  {
   "cell_type": "markdown",
   "id": "996a98f6-d4f0-4c2f-afac-1bae896be461",
   "metadata": {},
   "source": [
    "### 8. Mejor modelo basado en Accuracy"
   ]
  },
  {
   "cell_type": "code",
   "execution_count": 366,
   "id": "31174c61-0a7a-4fd1-891c-623308beab0e",
   "metadata": {},
   "outputs": [],
   "source": [
    "best_parameters = df_results.sort_values('accuracy', ascending=False).head(1)"
   ]
  },
  {
   "cell_type": "code",
   "execution_count": 373,
   "id": "64b6e1df-7aad-40b0-912b-d16edb4c0859",
   "metadata": {},
   "outputs": [],
   "source": [
    "best_parameters = best_parameters.loc[0]"
   ]
  },
  {
   "cell_type": "code",
   "execution_count": 378,
   "id": "6e530e27-032a-4674-af4f-bf7229e0cd5d",
   "metadata": {},
   "outputs": [
    {
     "data": {
      "text/plain": [
       "num_solutions                     2\n",
       "num_generations                  10\n",
       "num_parents_mating                8\n",
       "parent_selection_type    tournament\n",
       "keep_parents_                    -1\n",
       "mutation_type                  swap\n",
       "solution_fitness           1.551589\n",
       "solution_idx                      0\n",
       "entriopia                  1.180081\n",
       "accuracy                   0.513258\n",
       "Name: 0, dtype: object"
      ]
     },
     "execution_count": 378,
     "metadata": {},
     "output_type": "execute_result"
    }
   ],
   "source": [
    "best_parameters"
   ]
  },
  {
   "cell_type": "code",
   "execution_count": 376,
   "id": "5ca4d99d-bad0-4b92-bbdd-c0b7c3d92636",
   "metadata": {},
   "outputs": [],
   "source": [
    "best_model = grid_ag_manual_model(model, \n",
    "                   num_solutions_=best_parameters.num_solutions,\n",
    "                   data_inputs = X_train_enc,\n",
    "                   data_outputs = y_train_enc,\n",
    "                   num_generations = best_parameters.num_generations,\n",
    "                   num_parents_mating = best_parameters.num_parents_mating,\n",
    "                   parent_selection_type_= best_parameters.parent_selection_type,\n",
    "                   keep_parents_ = best_parameters.keep_parents_,\n",
    "                   mutation_type_ = best_parameters.mutation_type)\n"
   ]
  },
  {
   "cell_type": "code",
   "execution_count": 377,
   "id": "9f48008a-347a-4cf2-99dd-6d954d7ba631",
   "metadata": {},
   "outputs": [
    {
     "data": {
      "image/png": "[encoded data removed]",
      "text/plain": [
       "<Figure size 432x288 with 1 Axes>"
      ]
     },
     "metadata": {
      "needs_background": "light"
     },
     "output_type": "display_data"
    },
    {
     "data": {
      "image/png": "[encoded data removed]",
      "text/plain": [
       "<Figure size 432x288 with 1 Axes>"
      ]
     },
     "execution_count": 377,
     "metadata": {},
     "output_type": "execute_result"
    }
   ],
   "source": [
    "ga_instance.plot_result()"
   ]
  },
  {
   "cell_type": "code",
   "execution_count": 379,
   "id": "205dcc6c-98c6-49dc-9bdb-b66f02c1729f",
   "metadata": {},
   "outputs": [
    {
     "name": "stdout",
     "output_type": "stream",
     "text": [
      "Fitness value of the best solution = 4.977274116274678\n",
      "Index of the best solution : 0\n",
      "Predictions : \n",
      " [[1.82867050e-03 5.51190913e-01 2.92944908e-03]\n",
      " [2.30905414e-03 1.09175473e-01 9.41902399e-04]\n",
      " [1.80345774e-03 1.00853145e-02 9.85890627e-04]\n",
      " ...\n",
      " [3.91840935e-04 8.71804237e-01 2.14976072e-03]\n",
      " [8.53389502e-04 9.42679882e-01 3.13720107e-03]\n",
      " [2.71749468e-05 9.44478154e-01 5.17987311e-02]]\n",
      "Categorical Crossentropy :  1.6970078\n",
      "tf.Tensor(0.5498737, shape=(), dtype=float32)\n",
      "Accuracy :  0.5498737\n"
     ]
    }
   ],
   "source": [
    "# Returning the details of the best solution.\n",
    "solution, solution_fitness, solution_idx = ga_instance.best_solution()\n",
    "\n",
    "print(\"Fitness value of the best solution = {solution_fitness}\".format(solution_fitness=solution_fitness))\n",
    "print(\"Index of the best solution : {solution_idx}\".format(solution_idx=solution_idx))\n",
    "\n",
    "# Fetch the parameters of the best solution.\n",
    "best_solution_weights = pygad.kerasga.model_weights_as_matrix(model=model,\n",
    "                                                          weights_vector=solution)\n",
    "\n",
    "model.set_weights(best_solution_weights)\n",
    "predictions = model.predict(data_inputs)\n",
    "print(\"Predictions : \\n\", predictions)\n",
    "\n",
    "# Calculate the categorical crossentropy for the trained model.\n",
    "cce = tensorflow.keras.losses.CategoricalCrossentropy()\n",
    "print(\"Categorical Crossentropy : \", cce(data_outputs, predictions).numpy())\n",
    "\n",
    "# Calculate the classification accuracy for the trained model.\n",
    "ca = tensorflow.keras.metrics.CategoricalAccuracy()\n",
    "ca.update_state(data_outputs, predictions)\n",
    "print(ca.result())\n",
    "accuracy = ca.result().numpy()\n",
    "print(\"Accuracy : \", accuracy)\n"
   ]
  },
  {
   "cell_type": "code",
   "execution_count": null,
   "id": "0220e660-9962-40e5-9076-c4c7b7212da1",
   "metadata": {},
   "outputs": [],
   "source": []
  }
 ],
 "metadata": {
  "kernelspec": {
   "display_name": "Python 3 (ipykernel)",
   "language": "python",
   "name": "python3"
  },
  "language_info": {
   "codemirror_mode": {
    "name": "ipython",
    "version": 3
   },
   "file_extension": ".py",
   "mimetype": "text/x-python",
   "name": "python",
   "nbconvert_exporter": "python",
   "pygments_lexer": "ipython3",
   "version": "3.9.12"
  }
 },
 "nbformat": 4,
 "nbformat_minor": 5
}
